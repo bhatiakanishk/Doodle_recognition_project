{
  "nbformat": 4,
  "nbformat_minor": 0,
  "metadata": {
    "colab": {
      "name": "LSTM_Trial_RUN.ipynb",
      "provenance": [],
      "collapsed_sections": [],
      "toc_visible": true,
      "authorship_tag": "ABX9TyN4rEjftiAwTLTxy6+VHqGw",
      "include_colab_link": true
    },
    "kernelspec": {
      "name": "python3",
      "display_name": "Python 3"
    },
    "accelerator": "TPU"
  },
  "cells": [
    {
      "cell_type": "markdown",
      "metadata": {
        "id": "view-in-github",
        "colab_type": "text"
      },
      "source": [
        "<a href=\"https://colab.research.google.com/github/harshitgupta1998/Doodle_recogn_BEproject/blob/master/LSTM_Trial_RUN.ipynb\" target=\"_parent\"><img src=\"https://colab.research.google.com/assets/colab-badge.svg\" alt=\"Open In Colab\"/></a>"
      ]
    },
    {
      "cell_type": "code",
      "metadata": {
        "id": "1GVSvRJktpXE",
        "colab_type": "code",
        "outputId": "c3858257-94fb-479c-ba0e-43d029b4e239",
        "colab": {
          "base_uri": "https://localhost:8080/",
          "height": 121
        }
      },
      "source": [
        "from tensorflow.python.client import device_lib\n",
        "device_lib.list_local_devices()\n",
        "\n",
        "from google.colab import drive\n",
        "drive.mount('/content/drive/')"
      ],
      "execution_count": 0,
      "outputs": [
        {
          "output_type": "stream",
          "text": [
            "Go to this URL in a browser: https://accounts.google.com/o/oauth2/auth?client_id=947318989803-6bn6qk8qdgf4n4g3pfee6491hc0brc4i.apps.googleusercontent.com&redirect_uri=urn%3aietf%3awg%3aoauth%3a2.0%3aoob&response_type=code&scope=email%20https%3a%2f%2fwww.googleapis.com%2fauth%2fdocs.test%20https%3a%2f%2fwww.googleapis.com%2fauth%2fdrive%20https%3a%2f%2fwww.googleapis.com%2fauth%2fdrive.photos.readonly%20https%3a%2f%2fwww.googleapis.com%2fauth%2fpeopleapi.readonly\n",
            "\n",
            "Enter your authorization code:\n",
            "··········\n",
            "Mounted at /content/drive/\n"
          ],
          "name": "stdout"
        }
      ]
    },
    {
      "cell_type": "code",
      "metadata": {
        "id": "X7Lc8nUmt4JD",
        "colab_type": "code",
        "outputId": "a7c253c7-1845-4644-edc2-3396b60661e4",
        "colab": {
          "base_uri": "https://localhost:8080/",
          "height": 34
        }
      },
      "source": [
        "import glob\n",
        "import numpy as np\n",
        "import keras\n",
        "from keras import *\n",
        "import tensorflow as tf\n",
        "\n",
        "import numpy\n",
        "from keras.datasets import imdb\n",
        "from keras.models import Sequential\n",
        "from keras.layers import Dense\n",
        "from keras.layers import LSTM\n",
        "from keras.layers.embeddings import Embedding\n",
        "from keras.preprocessing import sequence\n",
        "\n",
        "# fix random seed for reproducibility\n",
        "numpy.random.seed(7)"
      ],
      "execution_count": 0,
      "outputs": [
        {
          "output_type": "stream",
          "text": [
            "Using TensorFlow backend.\n"
          ],
          "name": "stderr"
        }
      ]
    },
    {
      "cell_type": "code",
      "metadata": {
        "id": "Vxu7kjs9t7NX",
        "colab_type": "code",
        "colab": {}
      },
      "source": [
        "import os\n",
        "def load_data(vfold_ratio=0.2, max_items_per_class= 5000 ):\n",
        "    all_files = glob.glob(os.path.join('/content/drive/My Drive/BE_project_dataset_and_code/data/', '*.npy'))\n",
        "\n",
        "    #initialize variables \n",
        "    x = np.empty([0, 784])\n",
        "    y = np.empty([0])\n",
        "    class_names = []\n",
        "    iter = 0\n",
        "\n",
        "    #load a subset of the data to memory \n",
        "    for idx, file in enumerate(sorted(all_files)):\n",
        "        data = np.load(file)\n",
        "        data = data[0: max_items_per_class, :]\n",
        "        data=255-data;\n",
        "        labels = np.full(data.shape[0], idx)\n",
        "        print(labels.shape,data.shape,\"cur label num!\",iter+1,file)\n",
        "\n",
        "        x = np.concatenate((x, data), axis=0)\n",
        "        y = np.append(y, labels)\n",
        "\n",
        "    \n",
        "        class_name, ext = os.path.splitext(os.path.basename(file))\n",
        "        class_names.append(class_name)\n",
        "        iter += 1\n",
        "\n",
        "\n",
        "    data = None\n",
        "    labels = None\n",
        "\n",
        "    #separate into training and testing \n",
        "    permutation = np.random.permutation(y.shape[0])\n",
        "    x = x[permutation, :]\n",
        "    y = y[permutation]\n",
        "\n",
        "    vfold_size = int(x.shape[0]/100*(vfold_ratio*100))\n",
        "\n",
        "    x_test = x[0:vfold_size, :]\n",
        "    y_test = y[0:vfold_size]\n",
        "\n",
        "    x_train = x[vfold_size:x.shape[0], :]\n",
        "    y_train = y[vfold_size:y.shape[0]]\n",
        "    \n",
        "#     print(x_train)\n",
        "    return x_train, y_train, x_test, y_test, class_names"
      ],
      "execution_count": 0,
      "outputs": []
    },
    {
      "cell_type": "code",
      "metadata": {
        "id": "QPPQ1LA_uG75",
        "colab_type": "code",
        "outputId": "35937493-0e50-4be2-deec-bab78795f95e",
        "colab": {
          "base_uri": "https://localhost:8080/",
          "height": 521
        }
      },
      "source": [
        "Xtrain, Ytrain, Xtest, Ytest, class_names = load_data()\n",
        "num_classes = len(class_names)\n",
        "image_size = 28"
      ],
      "execution_count": 0,
      "outputs": [
        {
          "output_type": "stream",
          "text": [
            "(5000,) (5000, 784) cur label num! 1 /content/drive/My Drive/BE_project_dataset_and_code/data/ambulance.npy\n",
            "(5000,) (5000, 784) cur label num! 2 /content/drive/My Drive/BE_project_dataset_and_code/data/apple.npy\n",
            "(5000,) (5000, 784) cur label num! 3 /content/drive/My Drive/BE_project_dataset_and_code/data/axe.npy\n",
            "(5000,) (5000, 784) cur label num! 4 /content/drive/My Drive/BE_project_dataset_and_code/data/basketball.npy\n",
            "(5000,) (5000, 784) cur label num! 5 /content/drive/My Drive/BE_project_dataset_and_code/data/bicycle.npy\n",
            "(5000,) (5000, 784) cur label num! 6 /content/drive/My Drive/BE_project_dataset_and_code/data/boomerang.npy\n",
            "(5000,) (5000, 784) cur label num! 7 /content/drive/My Drive/BE_project_dataset_and_code/data/butterfly.npy\n",
            "(5000,) (5000, 784) cur label num! 8 /content/drive/My Drive/BE_project_dataset_and_code/data/car.npy\n",
            "(5000,) (5000, 784) cur label num! 9 /content/drive/My Drive/BE_project_dataset_and_code/data/carrot.npy\n",
            "(5000,) (5000, 784) cur label num! 10 /content/drive/My Drive/BE_project_dataset_and_code/data/cat.npy\n",
            "(5000,) (5000, 784) cur label num! 11 /content/drive/My Drive/BE_project_dataset_and_code/data/clock.npy\n",
            "(5000,) (5000, 784) cur label num! 12 /content/drive/My Drive/BE_project_dataset_and_code/data/cookie.npy\n",
            "(5000,) (5000, 784) cur label num! 13 /content/drive/My Drive/BE_project_dataset_and_code/data/cup.npy\n",
            "(5000,) (5000, 784) cur label num! 14 /content/drive/My Drive/BE_project_dataset_and_code/data/donut.npy\n",
            "(5000,) (5000, 784) cur label num! 15 /content/drive/My Drive/BE_project_dataset_and_code/data/envelope.npy\n",
            "(5000,) (5000, 784) cur label num! 16 /content/drive/My Drive/BE_project_dataset_and_code/data/flower.npy\n",
            "(5000,) (5000, 784) cur label num! 17 /content/drive/My Drive/BE_project_dataset_and_code/data/hammer.npy\n",
            "(5000,) (5000, 784) cur label num! 18 /content/drive/My Drive/BE_project_dataset_and_code/data/key.npy\n",
            "(5000,) (5000, 784) cur label num! 19 /content/drive/My Drive/BE_project_dataset_and_code/data/knife.npy\n",
            "(5000,) (5000, 784) cur label num! 20 /content/drive/My Drive/BE_project_dataset_and_code/data/lightning.npy\n",
            "(5000,) (5000, 784) cur label num! 21 /content/drive/My Drive/BE_project_dataset_and_code/data/pencil.npy\n",
            "(5000,) (5000, 784) cur label num! 22 /content/drive/My Drive/BE_project_dataset_and_code/data/pizza.npy\n",
            "(5000,) (5000, 784) cur label num! 23 /content/drive/My Drive/BE_project_dataset_and_code/data/rainbow.npy\n",
            "(5000,) (5000, 784) cur label num! 24 /content/drive/My Drive/BE_project_dataset_and_code/data/snake.npy\n",
            "(5000,) (5000, 784) cur label num! 25 /content/drive/My Drive/BE_project_dataset_and_code/data/spider.npy\n",
            "(5000,) (5000, 784) cur label num! 26 /content/drive/My Drive/BE_project_dataset_and_code/data/star.npy\n",
            "(5000,) (5000, 784) cur label num! 27 /content/drive/My Drive/BE_project_dataset_and_code/data/tractor.npy\n",
            "(5000,) (5000, 784) cur label num! 28 /content/drive/My Drive/BE_project_dataset_and_code/data/tree.npy\n",
            "(5000,) (5000, 784) cur label num! 29 /content/drive/My Drive/BE_project_dataset_and_code/data/whale.npy\n",
            "(5000,) (5000, 784) cur label num! 30 /content/drive/My Drive/BE_project_dataset_and_code/data/windmill.npy\n"
          ],
          "name": "stdout"
        }
      ]
    },
    {
      "cell_type": "code",
      "metadata": {
        "id": "4h78ukZEuLJs",
        "colab_type": "code",
        "outputId": "52c0a9e3-d3f2-4ad8-9827-0ca236a3326e",
        "colab": {
          "base_uri": "https://localhost:8080/",
          "height": 282
        }
      },
      "source": [
        "import matplotlib.pyplot as plt\n",
        "from random import randint\n",
        "%matplotlib inline  \n",
        "idx = randint(0, len(Xtrain))\n",
        "plt.imshow(Xtrain[idx].reshape(28,28)) \n",
        "print(class_names[int(Ytrain[idx].item())])"
      ],
      "execution_count": 0,
      "outputs": [
        {
          "output_type": "stream",
          "text": [
            "car\n"
          ],
          "name": "stdout"
        },
        {
          "output_type": "display_data",
          "data": {
            "image/png": "[encoded data removed]",
            "text/plain": [
              "<Figure size 432x288 with 1 Axes>"
            ]
          },
          "metadata": {
            "tags": []
          }
        }
      ]
    },
    {
      "cell_type": "code",
      "metadata": {
        "id": "lykm-3tFuQEZ",
        "colab_type": "code",
        "colab": {}
      },
      "source": [
        "# Reshape and normalize\n",
        "x_train = Xtrain.reshape(Xtrain.shape[0], image_size, image_size).astype('float32')\n",
        "x_test = Xtest.reshape(Xtest.shape[0], image_size, image_size).astype('float32')\n",
        "\n",
        "x_train /= 255.0\n",
        "x_test /= 255.0\n",
        "\n",
        "# Convert class vectors to class matrices\n",
        "y_train = keras.utils.to_categorical(Ytrain, num_classes)\n",
        "y_test = keras.utils.to_categorical(Ytest, num_classes)"
      ],
      "execution_count": 0,
      "outputs": []
    },
    {
      "cell_type": "code",
      "metadata": {
        "id": "vcpod6eQuUY8",
        "colab_type": "code",
        "colab": {}
      },
      "source": [
        "x_train = np.array(Xtrain).reshape((-1, 28, 28))\n",
        "x_test = np.array(Xtest).reshape((-1, 28, 28))"
      ],
      "execution_count": 0,
      "outputs": []
    },
    {
      "cell_type": "code",
      "metadata": {
        "id": "mCgQ46nhuY0o",
        "colab_type": "code",
        "outputId": "e71bc63d-2292-4d72-ac10-f165b3fb7759",
        "colab": {
          "base_uri": "https://localhost:8080/",
          "height": 423
        }
      },
      "source": [
        "model = Sequential()\n",
        "model.add(LSTM(256, input_shape=(x_train.shape[1], x_train.shape[2])))\n",
        "model.add(Dense(30,activation='sigmoid'))\n",
        "model.compile(loss='categorical_crossentropy', optimizer='adam', metrics=['accuracy'])\n",
        "print(model.summary())"
      ],
      "execution_count": 0,
      "outputs": [
        {
          "output_type": "stream",
          "text": [
            "WARNING:tensorflow:From /usr/local/lib/python3.6/dist-packages/keras/backend/tensorflow_backend.py:66: The name tf.get_default_graph is deprecated. Please use tf.compat.v1.get_default_graph instead.\n",
            "\n",
            "WARNING:tensorflow:From /usr/local/lib/python3.6/dist-packages/keras/backend/tensorflow_backend.py:541: The name tf.placeholder is deprecated. Please use tf.compat.v1.placeholder instead.\n",
            "\n",
            "WARNING:tensorflow:From /usr/local/lib/python3.6/dist-packages/keras/backend/tensorflow_backend.py:4432: The name tf.random_uniform is deprecated. Please use tf.random.uniform instead.\n",
            "\n",
            "WARNING:tensorflow:From /usr/local/lib/python3.6/dist-packages/keras/optimizers.py:793: The name tf.train.Optimizer is deprecated. Please use tf.compat.v1.train.Optimizer instead.\n",
            "\n",
            "WARNING:tensorflow:From /usr/local/lib/python3.6/dist-packages/keras/backend/tensorflow_backend.py:3576: The name tf.log is deprecated. Please use tf.math.log instead.\n",
            "\n",
            "Model: \"sequential_1\"\n",
            "_________________________________________________________________\n",
            "Layer (type)                 Output Shape              Param #   \n",
            "=================================================================\n",
            "lstm_1 (LSTM)                (None, 256)               291840    \n",
            "_________________________________________________________________\n",
            "dense_1 (Dense)              (None, 30)                7710      \n",
            "=================================================================\n",
            "Total params: 299,550\n",
            "Trainable params: 299,550\n",
            "Non-trainable params: 0\n",
            "_________________________________________________________________\n",
            "None\n"
          ],
          "name": "stdout"
        }
      ]
    },
    {
      "cell_type": "code",
      "metadata": {
        "id": "5u_AB52subi9",
        "colab_type": "code",
        "outputId": "a703cf6e-06d4-44a5-eb2e-a7d59cf0e43f",
        "colab": {
          "base_uri": "https://localhost:8080/",
          "height": 1000
        }
      },
      "source": [
        "model.fit(x_train, y_train,\n",
        "          batch_size=256,\n",
        "          epochs=50,\n",
        "          validation_data=(x_test, y_test))\n",
        "acc = model.evaluate(x_test, y_test,batch_size=256)\n",
        "print('Test accuracy:', acc[1])"
      ],
      "execution_count": 11,
      "outputs": [
        {
          "output_type": "stream",
          "text": [
            "WARNING:tensorflow:From /tensorflow-1.15.0/python3.6/tensorflow_core/python/ops/math_grad.py:1424: where (from tensorflow.python.ops.array_ops) is deprecated and will be removed in a future version.\n",
            "Instructions for updating:\n",
            "Use tf.where in 2.0, which has the same broadcast rule as np.where\n",
            "WARNING:tensorflow:From /usr/local/lib/python3.6/dist-packages/keras/backend/tensorflow_backend.py:1033: The name tf.assign_add is deprecated. Please use tf.compat.v1.assign_add instead.\n",
            "\n",
            "WARNING:tensorflow:From /usr/local/lib/python3.6/dist-packages/keras/backend/tensorflow_backend.py:1020: The name tf.assign is deprecated. Please use tf.compat.v1.assign instead.\n",
            "\n",
            "WARNING:tensorflow:From /usr/local/lib/python3.6/dist-packages/keras/backend/tensorflow_backend.py:3005: The name tf.Session is deprecated. Please use tf.compat.v1.Session instead.\n",
            "\n",
            "Train on 120000 samples, validate on 30000 samples\n",
            "Epoch 1/50\n",
            "WARNING:tensorflow:From /usr/local/lib/python3.6/dist-packages/keras/backend/tensorflow_backend.py:190: The name tf.get_default_session is deprecated. Please use tf.compat.v1.get_default_session instead.\n",
            "\n",
            "WARNING:tensorflow:From /usr/local/lib/python3.6/dist-packages/keras/backend/tensorflow_backend.py:197: The name tf.ConfigProto is deprecated. Please use tf.compat.v1.ConfigProto instead.\n",
            "\n",
            "WARNING:tensorflow:From /usr/local/lib/python3.6/dist-packages/keras/backend/tensorflow_backend.py:207: The name tf.global_variables is deprecated. Please use tf.compat.v1.global_variables instead.\n",
            "\n",
            "WARNING:tensorflow:From /usr/local/lib/python3.6/dist-packages/keras/backend/tensorflow_backend.py:216: The name tf.is_variable_initialized is deprecated. Please use tf.compat.v1.is_variable_initialized instead.\n",
            "\n",
            "WARNING:tensorflow:From /usr/local/lib/python3.6/dist-packages/keras/backend/tensorflow_backend.py:223: The name tf.variables_initializer is deprecated. Please use tf.compat.v1.variables_initializer instead.\n",
            "\n",
            "120000/120000 [==============================] - 183s 2ms/step - loss: 2.9173 - acc: 0.1887 - val_loss: 2.5056 - val_acc: 0.2873\n",
            "Epoch 2/50\n",
            "120000/120000 [==============================] - 182s 2ms/step - loss: 2.3925 - acc: 0.3060 - val_loss: 2.3439 - val_acc: 0.3144\n",
            "Epoch 3/50\n",
            "120000/120000 [==============================] - 182s 2ms/step - loss: 2.2484 - acc: 0.3344 - val_loss: 2.1732 - val_acc: 0.3539\n",
            "Epoch 4/50\n",
            "120000/120000 [==============================] - 183s 2ms/step - loss: 2.1453 - acc: 0.3581 - val_loss: 2.1103 - val_acc: 0.3686\n",
            "Epoch 5/50\n",
            "120000/120000 [==============================] - 185s 2ms/step - loss: 2.1000 - acc: 0.3706 - val_loss: 2.0670 - val_acc: 0.3785\n",
            "Epoch 6/50\n",
            "120000/120000 [==============================] - 182s 2ms/step - loss: 2.0693 - acc: 0.3811 - val_loss: 2.0604 - val_acc: 0.3821\n",
            "Epoch 7/50\n",
            "120000/120000 [==============================] - 182s 2ms/step - loss: 2.0299 - acc: 0.3935 - val_loss: 2.0139 - val_acc: 0.3931\n",
            "Epoch 8/50\n",
            "120000/120000 [==============================] - 182s 2ms/step - loss: 2.0149 - acc: 0.3992 - val_loss: 1.9933 - val_acc: 0.4064\n",
            "Epoch 9/50\n",
            "120000/120000 [==============================] - 182s 2ms/step - loss: 2.0330 - acc: 0.3956 - val_loss: 1.9836 - val_acc: 0.4043\n",
            "Epoch 10/50\n",
            "120000/120000 [==============================] - 182s 2ms/step - loss: 1.9688 - acc: 0.4124 - val_loss: 1.9651 - val_acc: 0.4159\n",
            "Epoch 11/50\n",
            "120000/120000 [==============================] - 182s 2ms/step - loss: 1.9770 - acc: 0.4134 - val_loss: 1.9882 - val_acc: 0.4085\n",
            "Epoch 12/50\n",
            "120000/120000 [==============================] - 182s 2ms/step - loss: 1.9851 - acc: 0.4112 - val_loss: 1.9638 - val_acc: 0.4161\n",
            "Epoch 13/50\n",
            "120000/120000 [==============================] - 182s 2ms/step - loss: 1.9756 - acc: 0.4131 - val_loss: 1.9572 - val_acc: 0.4173\n",
            "Epoch 14/50\n",
            "120000/120000 [==============================] - 182s 2ms/step - loss: 1.9542 - acc: 0.4192 - val_loss: 1.9353 - val_acc: 0.4212\n",
            "Epoch 15/50\n",
            "120000/120000 [==============================] - 183s 2ms/step - loss: 1.9497 - acc: 0.4224 - val_loss: 1.9363 - val_acc: 0.4192\n",
            "Epoch 16/50\n",
            "120000/120000 [==============================] - 184s 2ms/step - loss: 1.9337 - acc: 0.4248 - val_loss: 2.0105 - val_acc: 0.4066\n",
            "Epoch 17/50\n",
            "120000/120000 [==============================] - 182s 2ms/step - loss: 1.9269 - acc: 0.4277 - val_loss: 1.8945 - val_acc: 0.4351\n",
            "Epoch 18/50\n",
            "120000/120000 [==============================] - 181s 2ms/step - loss: 1.9316 - acc: 0.4265 - val_loss: 1.9906 - val_acc: 0.4021\n",
            "Epoch 19/50\n",
            "120000/120000 [==============================] - 184s 2ms/step - loss: 1.9452 - acc: 0.4229 - val_loss: 1.9430 - val_acc: 0.4204\n",
            "Epoch 20/50\n",
            "120000/120000 [==============================] - 182s 2ms/step - loss: 1.9289 - acc: 0.4288 - val_loss: 1.9202 - val_acc: 0.4270\n",
            "Epoch 21/50\n",
            "120000/120000 [==============================] - 182s 2ms/step - loss: 1.9178 - acc: 0.4309 - val_loss: 1.9278 - val_acc: 0.4246\n",
            "Epoch 22/50\n",
            "120000/120000 [==============================] - 182s 2ms/step - loss: 1.9149 - acc: 0.4330 - val_loss: 1.9070 - val_acc: 0.4328\n",
            "Epoch 23/50\n",
            "120000/120000 [==============================] - 182s 2ms/step - loss: 1.9000 - acc: 0.4366 - val_loss: 1.8905 - val_acc: 0.4340\n",
            "Epoch 24/50\n",
            "120000/120000 [==============================] - 182s 2ms/step - loss: 1.8927 - acc: 0.4380 - val_loss: 1.9096 - val_acc: 0.4343\n",
            "Epoch 25/50\n",
            "120000/120000 [==============================] - 183s 2ms/step - loss: 1.8928 - acc: 0.4392 - val_loss: 1.9013 - val_acc: 0.4420\n",
            "Epoch 26/50\n",
            "120000/120000 [==============================] - 179s 1ms/step - loss: 1.9077 - acc: 0.4348 - val_loss: 1.9125 - val_acc: 0.4315\n",
            "Epoch 27/50\n",
            "120000/120000 [==============================] - 176s 1ms/step - loss: 1.8949 - acc: 0.4380 - val_loss: 1.8861 - val_acc: 0.4382\n",
            "Epoch 28/50\n",
            "120000/120000 [==============================] - 176s 1ms/step - loss: 1.8942 - acc: 0.4366 - val_loss: 1.9141 - val_acc: 0.4327\n",
            "Epoch 29/50\n",
            "120000/120000 [==============================] - 185s 2ms/step - loss: 1.9210 - acc: 0.4283 - val_loss: 1.9665 - val_acc: 0.4165\n",
            "Epoch 30/50\n",
            "120000/120000 [==============================] - 182s 2ms/step - loss: 1.9673 - acc: 0.4172 - val_loss: 1.9547 - val_acc: 0.4226\n",
            "Epoch 31/50\n",
            "120000/120000 [==============================] - 183s 2ms/step - loss: 1.9566 - acc: 0.4207 - val_loss: 1.9482 - val_acc: 0.4254\n",
            "Epoch 32/50\n",
            "120000/120000 [==============================] - 182s 2ms/step - loss: 1.9361 - acc: 0.4270 - val_loss: 1.9764 - val_acc: 0.4137\n",
            "Epoch 33/50\n",
            "120000/120000 [==============================] - 182s 2ms/step - loss: 1.9367 - acc: 0.4258 - val_loss: 1.9366 - val_acc: 0.4281\n",
            "Epoch 34/50\n",
            "120000/120000 [==============================] - 183s 2ms/step - loss: 1.9251 - acc: 0.4304 - val_loss: 1.9862 - val_acc: 0.4125\n",
            "Epoch 35/50\n",
            "120000/120000 [==============================] - 184s 2ms/step - loss: 1.9157 - acc: 0.4322 - val_loss: 1.9196 - val_acc: 0.4325\n",
            "Epoch 36/50\n",
            "120000/120000 [==============================] - 184s 2ms/step - loss: 1.9206 - acc: 0.4292 - val_loss: 1.9278 - val_acc: 0.4275\n",
            "Epoch 37/50\n",
            "120000/120000 [==============================] - 183s 2ms/step - loss: 1.9160 - acc: 0.4327 - val_loss: 1.9245 - val_acc: 0.4285\n",
            "Epoch 38/50\n",
            "120000/120000 [==============================] - 183s 2ms/step - loss: 1.9142 - acc: 0.4336 - val_loss: 1.9308 - val_acc: 0.4249\n",
            "Epoch 39/50\n",
            "120000/120000 [==============================] - 183s 2ms/step - loss: 1.9103 - acc: 0.4346 - val_loss: 1.9135 - val_acc: 0.4330\n",
            "Epoch 40/50\n",
            "120000/120000 [==============================] - 183s 2ms/step - loss: 1.9120 - acc: 0.4340 - val_loss: 1.9535 - val_acc: 0.4179\n",
            "Epoch 41/50\n",
            "120000/120000 [==============================] - 183s 2ms/step - loss: 1.9076 - acc: 0.4351 - val_loss: 1.9030 - val_acc: 0.4344\n",
            "Epoch 42/50\n",
            "120000/120000 [==============================] - 182s 2ms/step - loss: 1.9023 - acc: 0.4375 - val_loss: 1.9185 - val_acc: 0.4347\n",
            "Epoch 43/50\n",
            "120000/120000 [==============================] - 183s 2ms/step - loss: 1.9047 - acc: 0.4351 - val_loss: 1.9040 - val_acc: 0.4383\n",
            "Epoch 44/50\n",
            "120000/120000 [==============================] - 184s 2ms/step - loss: 1.9762 - acc: 0.4153 - val_loss: 2.0206 - val_acc: 0.3983\n",
            "Epoch 45/50\n",
            "120000/120000 [==============================] - 187s 2ms/step - loss: 1.9856 - acc: 0.4134 - val_loss: 1.9887 - val_acc: 0.4086\n",
            "Epoch 46/50\n",
            "120000/120000 [==============================] - 183s 2ms/step - loss: 1.9720 - acc: 0.4161 - val_loss: 1.9855 - val_acc: 0.4083\n",
            "Epoch 47/50\n",
            "120000/120000 [==============================] - 183s 2ms/step - loss: 1.9676 - acc: 0.4171 - val_loss: 1.9740 - val_acc: 0.4079\n",
            "Epoch 48/50\n",
            "120000/120000 [==============================] - 182s 2ms/step - loss: 1.9616 - acc: 0.4195 - val_loss: 1.9780 - val_acc: 0.4108\n",
            "Epoch 49/50\n",
            "120000/120000 [==============================] - 182s 2ms/step - loss: 1.9611 - acc: 0.4173 - val_loss: 1.9837 - val_acc: 0.4072\n",
            "Epoch 50/50\n",
            "120000/120000 [==============================] - 183s 2ms/step - loss: 1.9598 - acc: 0.4188 - val_loss: 1.9732 - val_acc: 0.4157\n",
            "30000/30000 [==============================] - 13s 437us/step\n",
            "Test accuracy: 0.41569999998410545\n"
          ],
          "name": "stdout"
        }
      ]
    },
    {
      "cell_type": "code",
      "metadata": {
        "id": "tNPUXSm9ueSS",
        "colab_type": "code",
        "colab": {
          "base_uri": "https://localhost:8080/",
          "height": 282
        },
        "outputId": "787499f5-0bbe-4613-a41c-2a2a63343888"
      },
      "source": [
        "import matplotlib.pyplot as plt\n",
        "from random import randint\n",
        "%matplotlib inline  \n",
        "idx = randint(0, len(x_test))\n",
        "img = x_test[idx]\n",
        "plt.imshow(img.squeeze()) \n",
        "pred = model.predict(np.expand_dims(img, axis=0))[0]\n",
        "ind = (-pred).argsort()[:5]\n",
        "latex = [class_names[x] for x in ind]\n",
        "print(latex)"
      ],
      "execution_count": 13,
      "outputs": [
        {
          "output_type": "stream",
          "text": [
            "['key', 'spider', 'windmill', 'flower', 'pizza']\n"
          ],
          "name": "stdout"
        },
        {
          "output_type": "display_data",
          "data": {
            "image/png": "[encoded data removed]",
            "text/plain": [
              "<Figure size 432x288 with 1 Axes>"
            ]
          },
          "metadata": {
            "tags": []
          }
        }
      ]
    },
    {
      "cell_type": "code",
      "metadata": {
        "id": "1bphMAhDuk00",
        "colab_type": "code",
        "colab": {}
      },
      "source": [
        "\n",
        "model.save('lstm.h5')"
      ],
      "execution_count": 0,
      "outputs": []
    },
    {
      "cell_type": "code",
      "metadata": {
        "id": "Ew60yw_3uoDa",
        "colab_type": "code",
        "colab": {}
      },
      "source": [
        ""
      ],
      "execution_count": 0,
      "outputs": []
    }
  ]
}