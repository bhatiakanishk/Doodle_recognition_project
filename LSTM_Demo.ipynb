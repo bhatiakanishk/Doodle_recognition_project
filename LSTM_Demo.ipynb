{
  "nbformat": 4,
  "nbformat_minor": 0,
  "metadata": {
    "colab": {
      "name": "LSTM Demo.ipynb",
      "provenance": [],
      "collapsed_sections": []
    },
    "kernelspec": {
      "name": "python3",
      "display_name": "Python 3"
    }
  },
  "cells": [
    {
      "cell_type": "code",
      "metadata": {
        "id": "JW0vvk-dQd9K",
        "colab_type": "code",
        "outputId": "f19757dc-00ee-4dfd-802b-b263d8e68060",
        "colab": {
          "base_uri": "https://localhost:8080/",
          "height": 34
        }
      },
      "source": [
        "from tensorflow.python.client import device_lib\n",
        "device_lib.list_local_devices()\n",
        "\n",
        "from google.colab import drive\n",
        "drive.mount('/content/drive/')\n"
      ],
      "execution_count": 0,
      "outputs": [
        {
          "output_type": "stream",
          "text": [
            "Drive already mounted at /content/drive/; to attempt to forcibly remount, call drive.mount(\"/content/drive/\", force_remount=True).\n"
          ],
          "name": "stdout"
        }
      ]
    },
    {
      "cell_type": "code",
      "metadata": {
        "id": "QyaQBW9ZUqXx",
        "colab_type": "code",
        "outputId": "a8bc2556-a0d3-4c96-c700-eb9af1e60379",
        "colab": {
          "base_uri": "https://localhost:8080/",
          "height": 34
        }
      },
      "source": [
        "\n",
        "import os\n",
        "import glob\n",
        "import numpy as np\n",
        "import keras\n",
        "#from keras import *\n",
        "import tensorflow as tf\n",
        "from tensorflow.keras import *\n",
        "\n",
        "import numpy\n",
        "from keras.datasets import imdb\n",
        "from keras.models import Sequential\n",
        "from keras.layers import Dense\n",
        "from keras.layers import LSTM\n",
        "from keras.layers.embeddings import Embedding\n",
        "from keras.preprocessing import sequence\n",
        "# fix random seed for reproducibility\n",
        "numpy.random.seed(7)"
      ],
      "execution_count": 0,
      "outputs": [
        {
          "output_type": "stream",
          "text": [
            "Using TensorFlow backend.\n"
          ],
          "name": "stderr"
        }
      ]
    },
    {
      "cell_type": "code",
      "metadata": {
        "id": "PoqRJAnVU5pu",
        "colab_type": "code",
        "colab": {}
      },
      "source": [
        "\n",
        "def load_data(vfold_ratio=0.2, max_items_per_class= 5000 ):\n",
        "    all_files = glob.glob(os.path.join(\"/content/drive/My Drive/BE_project_dataset_and_code/Data/\", '*.npy'))\n",
        "\n",
        "    #initialize variables \n",
        "    x = np.empty([0, 784])\n",
        "    y = np.empty([0])\n",
        "    class_names = []\n",
        "    iter = 0\n",
        "\n",
        "    #load a subset of the data to memory \n",
        "    for idx, file in enumerate(sorted(all_files)):\n",
        "        data = np.load(file)\n",
        "        data = data[0: max_items_per_class, :]\n",
        "        data=255-data;\n",
        "        labels = np.full(data.shape[0], idx)\n",
        "        print(labels.shape,data.shape,\"cur label num!\",iter+1,file)\n",
        "\n",
        "        x = np.concatenate((x, data), axis=0)\n",
        "        y = np.append(y, labels)\n",
        "\n",
        "    \n",
        "        class_name, ext = os.path.splitext(os.path.basename(file))\n",
        "        class_names.append(class_name)\n",
        "        iter += 1\n",
        "\n",
        "\n",
        "    data = None\n",
        "    labels = None\n",
        "\n",
        "    #separate into training and testing \n",
        "    permutation = np.random.permutation(y.shape[0])\n",
        "    x = x[permutation, :]\n",
        "    y = y[permutation]\n",
        "\n",
        "    vfold_size = int(x.shape[0]/100*(vfold_ratio*100))\n",
        "\n",
        "    x_test = x[0:vfold_size, :]\n",
        "    y_test = y[0:vfold_size]\n",
        "\n",
        "    x_train = x[vfold_size:x.shape[0], :]\n",
        "    y_train = y[vfold_size:y.shape[0]]\n",
        "    \n",
        "#     print(x_train)\n",
        "    return x_train, y_train, x_test, y_test, class_names"
      ],
      "execution_count": 0,
      "outputs": []
    },
    {
      "cell_type": "code",
      "metadata": {
        "id": "0ADnvGRIU-_-",
        "colab_type": "code",
        "outputId": "4007b632-b622-466e-ef61-698564e1409f",
        "colab": {
          "base_uri": "https://localhost:8080/",
          "height": 527
        }
      },
      "source": [
        "Xtrain, Ytrain, Xtest, Ytest, class_names = load_data()\n",
        "num_classes = len(class_names)\n",
        "image_size = 28"
      ],
      "execution_count": 0,
      "outputs": [
        {
          "output_type": "stream",
          "text": [
            "(5000,) (5000, 784) cur label num! 1 /content/drive/My Drive/BE_project_dataset_and_code/Data/ambulance.npy\n",
            "(5000,) (5000, 784) cur label num! 2 /content/drive/My Drive/BE_project_dataset_and_code/Data/apple.npy\n",
            "(5000,) (5000, 784) cur label num! 3 /content/drive/My Drive/BE_project_dataset_and_code/Data/axe.npy\n",
            "(5000,) (5000, 784) cur label num! 4 /content/drive/My Drive/BE_project_dataset_and_code/Data/basketball.npy\n",
            "(5000,) (5000, 784) cur label num! 5 /content/drive/My Drive/BE_project_dataset_and_code/Data/bicycle.npy\n",
            "(5000,) (5000, 784) cur label num! 6 /content/drive/My Drive/BE_project_dataset_and_code/Data/boomerang.npy\n",
            "(5000,) (5000, 784) cur label num! 7 /content/drive/My Drive/BE_project_dataset_and_code/Data/butterfly.npy\n",
            "(5000,) (5000, 784) cur label num! 8 /content/drive/My Drive/BE_project_dataset_and_code/Data/car.npy\n",
            "(5000,) (5000, 784) cur label num! 9 /content/drive/My Drive/BE_project_dataset_and_code/Data/carrot.npy\n",
            "(5000,) (5000, 784) cur label num! 10 /content/drive/My Drive/BE_project_dataset_and_code/Data/cat.npy\n",
            "(5000,) (5000, 784) cur label num! 11 /content/drive/My Drive/BE_project_dataset_and_code/Data/clock.npy\n",
            "(5000,) (5000, 784) cur label num! 12 /content/drive/My Drive/BE_project_dataset_and_code/Data/cookie.npy\n",
            "(5000,) (5000, 784) cur label num! 13 /content/drive/My Drive/BE_project_dataset_and_code/Data/cup.npy\n",
            "(5000,) (5000, 784) cur label num! 14 /content/drive/My Drive/BE_project_dataset_and_code/Data/donut.npy\n",
            "(5000,) (5000, 784) cur label num! 15 /content/drive/My Drive/BE_project_dataset_and_code/Data/envelope.npy\n",
            "(5000,) (5000, 784) cur label num! 16 /content/drive/My Drive/BE_project_dataset_and_code/Data/flower.npy\n",
            "(5000,) (5000, 784) cur label num! 17 /content/drive/My Drive/BE_project_dataset_and_code/Data/hammer.npy\n",
            "(5000,) (5000, 784) cur label num! 18 /content/drive/My Drive/BE_project_dataset_and_code/Data/key.npy\n",
            "(5000,) (5000, 784) cur label num! 19 /content/drive/My Drive/BE_project_dataset_and_code/Data/knife.npy\n",
            "(5000,) (5000, 784) cur label num! 20 /content/drive/My Drive/BE_project_dataset_and_code/Data/lightning.npy\n",
            "(5000,) (5000, 784) cur label num! 21 /content/drive/My Drive/BE_project_dataset_and_code/Data/pencil.npy\n",
            "(5000,) (5000, 784) cur label num! 22 /content/drive/My Drive/BE_project_dataset_and_code/Data/pizza.npy\n",
            "(5000,) (5000, 784) cur label num! 23 /content/drive/My Drive/BE_project_dataset_and_code/Data/rainbow.npy\n",
            "(5000,) (5000, 784) cur label num! 24 /content/drive/My Drive/BE_project_dataset_and_code/Data/snake.npy\n",
            "(5000,) (5000, 784) cur label num! 25 /content/drive/My Drive/BE_project_dataset_and_code/Data/spider.npy\n",
            "(5000,) (5000, 784) cur label num! 26 /content/drive/My Drive/BE_project_dataset_and_code/Data/star.npy\n",
            "(5000,) (5000, 784) cur label num! 27 /content/drive/My Drive/BE_project_dataset_and_code/Data/tractor.npy\n",
            "(5000,) (5000, 784) cur label num! 28 /content/drive/My Drive/BE_project_dataset_and_code/Data/tree.npy\n",
            "(5000,) (5000, 784) cur label num! 29 /content/drive/My Drive/BE_project_dataset_and_code/Data/whale.npy\n",
            "(5000,) (5000, 784) cur label num! 30 /content/drive/My Drive/BE_project_dataset_and_code/Data/windmill.npy\n"
          ],
          "name": "stdout"
        }
      ]
    },
    {
      "cell_type": "code",
      "metadata": {
        "id": "oBgItekZVCJi",
        "colab_type": "code",
        "outputId": "9e5688d6-eb67-43fd-9c48-ffa368a3988d",
        "colab": {
          "base_uri": "https://localhost:8080/",
          "height": 282
        }
      },
      "source": [
        "import matplotlib.pyplot as plt\n",
        "from random import randint\n",
        "%matplotlib inline  \n",
        "idx = randint(0, len(Xtrain))\n",
        "plt.imshow(Xtrain[idx].reshape(28,28)) \n",
        "print(class_names[int(Ytrain[idx].item())])"
      ],
      "execution_count": 0,
      "outputs": [
        {
          "output_type": "stream",
          "text": [
            "apple\n"
          ],
          "name": "stdout"
        },
        {
          "output_type": "display_data",
          "data": {
            "image/png": "[encoded data removed]",
            "text/plain": [
              "<Figure size 432x288 with 1 Axes>"
            ]
          },
          "metadata": {
            "tags": []
          }
        }
      ]
    },
    {
      "cell_type": "code",
      "metadata": {
        "id": "ZQmSats1VEnl",
        "colab_type": "code",
        "colab": {}
      },
      "source": [
        "# Reshape and normalize\n",
        "x_train = Xtrain.reshape(Xtrain.shape[0], image_size, image_size).astype('float32')\n",
        "x_test = Xtest.reshape(Xtest.shape[0], image_size, image_size).astype('float32')\n",
        "\n",
        "x_train /= 255.0\n",
        "x_test /= 255.0\n",
        "\n",
        "# Convert class vectors to class matrices\n",
        "y_train = keras.utils.to_categorical(Ytrain, num_classes)\n",
        "y_test = keras.utils.to_categorical(Ytest, num_classes)"
      ],
      "execution_count": 0,
      "outputs": []
    },
    {
      "cell_type": "code",
      "metadata": {
        "id": "DYGBoGp5VGRG",
        "colab_type": "code",
        "outputId": "71fabf04-959e-4e79-b0bc-291f2c9b127b",
        "colab": {
          "base_uri": "https://localhost:8080/",
          "height": 238
        }
      },
      "source": [
        "model = Sequential()\n",
        "model.add(LSTM(256, input_shape=(x_train.shape[1], x_train.shape[2])))\n",
        "model.add(Dense(30,activation='sigmoid'))\n",
        "model.compile(loss='categorical_crossentropy', optimizer='adam', metrics=['accuracy'])\n",
        "print(model.summary())"
      ],
      "execution_count": 0,
      "outputs": [
        {
          "output_type": "stream",
          "text": [
            "Model: \"sequential_1\"\n",
            "_________________________________________________________________\n",
            "Layer (type)                 Output Shape              Param #   \n",
            "=================================================================\n",
            "lstm_1 (LSTM)                (None, 256)               291840    \n",
            "_________________________________________________________________\n",
            "dense_1 (Dense)              (None, 30)                7710      \n",
            "=================================================================\n",
            "Total params: 299,550\n",
            "Trainable params: 299,550\n",
            "Non-trainable params: 0\n",
            "_________________________________________________________________\n",
            "None\n"
          ],
          "name": "stdout"
        }
      ]
    },
    {
      "cell_type": "code",
      "metadata": {
        "id": "qoOCqlRDVIhe",
        "colab_type": "code",
        "outputId": "f6eb40ab-d643-43e7-c0e4-9477b511cd26",
        "colab": {
          "base_uri": "https://localhost:8080/",
          "height": 1000
        }
      },
      "source": [
        "\n",
        "model.fit(x_train, y_train,\n",
        "          batch_size=256,\n",
        "          epochs=50,\n",
        "          validation_data=(x_test, y_test))\n",
        "acc = model.evaluate(x_test, y_test,batch_size=256)\n",
        "print('Test accuracy:', acc[1])"
      ],
      "execution_count": 0,
      "outputs": [
        {
          "output_type": "stream",
          "text": [
            "Train on 120000 samples, validate on 30000 samples\n",
            "Epoch 1/50\n",
            "120000/120000 [==============================] - 214s 2ms/step - loss: 1.8992 - accuracy: 0.4377 - val_loss: 1.3205 - val_accuracy: 0.6099\n",
            "Epoch 2/50\n",
            "120000/120000 [==============================] - 214s 2ms/step - loss: 1.1974 - accuracy: 0.6467 - val_loss: 1.0783 - val_accuracy: 0.6840\n",
            "Epoch 3/50\n",
            "120000/120000 [==============================] - 214s 2ms/step - loss: 1.0227 - accuracy: 0.6989 - val_loss: 0.9824 - val_accuracy: 0.7069\n",
            "Epoch 4/50\n",
            "120000/120000 [==============================] - 216s 2ms/step - loss: 0.9010 - accuracy: 0.7335 - val_loss: 0.8862 - val_accuracy: 0.7401\n",
            "Epoch 5/50\n",
            "120000/120000 [==============================] - 216s 2ms/step - loss: 0.8187 - accuracy: 0.7581 - val_loss: 0.8469 - val_accuracy: 0.7512\n",
            "Epoch 6/50\n",
            "120000/120000 [==============================] - 208s 2ms/step - loss: 0.7489 - accuracy: 0.7780 - val_loss: 0.7666 - val_accuracy: 0.7766\n",
            "Epoch 7/50\n",
            "120000/120000 [==============================] - 216s 2ms/step - loss: 0.6925 - accuracy: 0.7953 - val_loss: 0.7710 - val_accuracy: 0.7761\n",
            "Epoch 8/50\n",
            "120000/120000 [==============================] - 215s 2ms/step - loss: 0.6417 - accuracy: 0.8102 - val_loss: 0.7224 - val_accuracy: 0.7909\n",
            "Epoch 9/50\n",
            "120000/120000 [==============================] - 216s 2ms/step - loss: 0.6016 - accuracy: 0.8212 - val_loss: 0.6960 - val_accuracy: 0.8004\n",
            "Epoch 10/50\n",
            "120000/120000 [==============================] - 199s 2ms/step - loss: 0.5647 - accuracy: 0.8317 - val_loss: 0.6569 - val_accuracy: 0.8113\n",
            "Epoch 11/50\n",
            "120000/120000 [==============================] - 220s 2ms/step - loss: 0.5325 - accuracy: 0.8416 - val_loss: 0.6456 - val_accuracy: 0.8133\n",
            "Epoch 12/50\n",
            "120000/120000 [==============================] - 211s 2ms/step - loss: 0.5048 - accuracy: 0.8497 - val_loss: 0.6368 - val_accuracy: 0.8190\n",
            "Epoch 13/50\n",
            "120000/120000 [==============================] - 217s 2ms/step - loss: 0.4798 - accuracy: 0.8569 - val_loss: 0.6163 - val_accuracy: 0.8253\n",
            "Epoch 14/50\n",
            "120000/120000 [==============================] - 217s 2ms/step - loss: 0.4516 - accuracy: 0.8652 - val_loss: 0.6244 - val_accuracy: 0.8257\n",
            "Epoch 15/50\n",
            "120000/120000 [==============================] - 216s 2ms/step - loss: 0.4290 - accuracy: 0.8716 - val_loss: 0.6321 - val_accuracy: 0.8242\n",
            "Epoch 16/50\n",
            "120000/120000 [==============================] - 215s 2ms/step - loss: 0.4065 - accuracy: 0.8775 - val_loss: 0.6242 - val_accuracy: 0.8239\n",
            "Epoch 17/50\n",
            "120000/120000 [==============================] - 216s 2ms/step - loss: 0.3842 - accuracy: 0.8837 - val_loss: 0.6110 - val_accuracy: 0.8310\n",
            "Epoch 18/50\n",
            "120000/120000 [==============================] - 213s 2ms/step - loss: 0.3578 - accuracy: 0.8914 - val_loss: 0.6514 - val_accuracy: 0.8227\n",
            "Epoch 19/50\n",
            "120000/120000 [==============================] - 215s 2ms/step - loss: 0.3424 - accuracy: 0.8956 - val_loss: 0.6449 - val_accuracy: 0.8231\n",
            "Epoch 20/50\n",
            "120000/120000 [==============================] - 211s 2ms/step - loss: 0.3200 - accuracy: 0.9019 - val_loss: 0.6294 - val_accuracy: 0.8299\n",
            "Epoch 21/50\n",
            "120000/120000 [==============================] - 202s 2ms/step - loss: 0.2971 - accuracy: 0.9092 - val_loss: 0.6556 - val_accuracy: 0.8273\n",
            "Epoch 22/50\n",
            "120000/120000 [==============================] - 214s 2ms/step - loss: 0.2842 - accuracy: 0.9129 - val_loss: 0.6524 - val_accuracy: 0.8288\n",
            "Epoch 23/50\n",
            "120000/120000 [==============================] - 216s 2ms/step - loss: 0.2626 - accuracy: 0.9184 - val_loss: 0.6743 - val_accuracy: 0.8283\n",
            "Epoch 24/50\n",
            "120000/120000 [==============================] - 220s 2ms/step - loss: 0.2456 - accuracy: 0.9235 - val_loss: 0.6949 - val_accuracy: 0.8266\n",
            "Epoch 25/50\n",
            "120000/120000 [==============================] - 213s 2ms/step - loss: 0.2295 - accuracy: 0.9291 - val_loss: 0.7066 - val_accuracy: 0.8272\n",
            "Epoch 26/50\n",
            "120000/120000 [==============================] - 199s 2ms/step - loss: 0.2125 - accuracy: 0.9337 - val_loss: 0.6907 - val_accuracy: 0.8279\n",
            "Epoch 27/50\n",
            "120000/120000 [==============================] - 198s 2ms/step - loss: 0.2044 - accuracy: 0.9359 - val_loss: 0.7242 - val_accuracy: 0.8274\n",
            "Epoch 28/50\n",
            "120000/120000 [==============================] - 201s 2ms/step - loss: 0.1855 - accuracy: 0.9424 - val_loss: 0.7395 - val_accuracy: 0.8227\n",
            "Epoch 29/50\n",
            "120000/120000 [==============================] - 203s 2ms/step - loss: 0.1716 - accuracy: 0.9464 - val_loss: 0.7520 - val_accuracy: 0.8293\n",
            "Epoch 30/50\n",
            "120000/120000 [==============================] - 201s 2ms/step - loss: 0.1638 - accuracy: 0.9484 - val_loss: 0.7899 - val_accuracy: 0.8227\n",
            "Epoch 31/50\n",
            "120000/120000 [==============================] - 198s 2ms/step - loss: 0.1562 - accuracy: 0.9502 - val_loss: 0.7974 - val_accuracy: 0.8226\n",
            "Epoch 32/50\n",
            "120000/120000 [==============================] - 200s 2ms/step - loss: 0.1424 - accuracy: 0.9550 - val_loss: 0.8204 - val_accuracy: 0.8228\n",
            "Epoch 33/50\n",
            "120000/120000 [==============================] - 200s 2ms/step - loss: 0.1373 - accuracy: 0.9565 - val_loss: 0.8057 - val_accuracy: 0.8247\n",
            "Epoch 34/50\n",
            "120000/120000 [==============================] - 199s 2ms/step - loss: 0.1273 - accuracy: 0.9601 - val_loss: 0.8241 - val_accuracy: 0.8219\n",
            "Epoch 35/50\n",
            "120000/120000 [==============================] - 216s 2ms/step - loss: 0.1195 - accuracy: 0.9624 - val_loss: 0.8517 - val_accuracy: 0.8241\n",
            "Epoch 36/50\n",
            "120000/120000 [==============================] - 216s 2ms/step - loss: 0.1140 - accuracy: 0.9640 - val_loss: 0.8701 - val_accuracy: 0.8206\n",
            "Epoch 37/50\n",
            "120000/120000 [==============================] - 217s 2ms/step - loss: 0.1103 - accuracy: 0.9642 - val_loss: 0.8768 - val_accuracy: 0.8226\n",
            "Epoch 38/50\n",
            "120000/120000 [==============================] - 218s 2ms/step - loss: 0.1009 - accuracy: 0.9678 - val_loss: 0.8936 - val_accuracy: 0.8212\n",
            "Epoch 39/50\n",
            "120000/120000 [==============================] - 216s 2ms/step - loss: 0.0990 - accuracy: 0.9686 - val_loss: 0.9070 - val_accuracy: 0.8215\n",
            "Epoch 40/50\n",
            "120000/120000 [==============================] - 217s 2ms/step - loss: 0.0980 - accuracy: 0.9682 - val_loss: 0.9071 - val_accuracy: 0.8199\n",
            "Epoch 41/50\n",
            "120000/120000 [==============================] - 217s 2ms/step - loss: 0.0892 - accuracy: 0.9713 - val_loss: 0.9148 - val_accuracy: 0.8224\n",
            "Epoch 42/50\n",
            "120000/120000 [==============================] - 217s 2ms/step - loss: 0.0838 - accuracy: 0.9736 - val_loss: 0.9451 - val_accuracy: 0.8220\n",
            "Epoch 43/50\n",
            "120000/120000 [==============================] - 218s 2ms/step - loss: 0.0828 - accuracy: 0.9736 - val_loss: 0.9623 - val_accuracy: 0.8189\n",
            "Epoch 44/50\n",
            "120000/120000 [==============================] - 208s 2ms/step - loss: 0.0897 - accuracy: 0.9705 - val_loss: 0.9614 - val_accuracy: 0.8228\n",
            "Epoch 45/50\n",
            "120000/120000 [==============================] - 216s 2ms/step - loss: 0.0720 - accuracy: 0.9777 - val_loss: 1.0002 - val_accuracy: 0.8192\n",
            "Epoch 46/50\n",
            "120000/120000 [==============================] - 214s 2ms/step - loss: 0.0793 - accuracy: 0.9747 - val_loss: 0.9826 - val_accuracy: 0.8208\n",
            "Epoch 47/50\n",
            "120000/120000 [==============================] - 216s 2ms/step - loss: 0.0752 - accuracy: 0.9755 - val_loss: 0.9958 - val_accuracy: 0.8174\n",
            "Epoch 48/50\n",
            "120000/120000 [==============================] - 218s 2ms/step - loss: 0.0777 - accuracy: 0.9749 - val_loss: 0.9897 - val_accuracy: 0.8206\n",
            "Epoch 49/50\n",
            "120000/120000 [==============================] - 217s 2ms/step - loss: 0.0689 - accuracy: 0.9782 - val_loss: 1.0178 - val_accuracy: 0.8198\n",
            "Epoch 50/50\n",
            "120000/120000 [==============================] - 214s 2ms/step - loss: 0.0657 - accuracy: 0.9790 - val_loss: 1.0531 - val_accuracy: 0.8144\n",
            "30000/30000 [==============================] - 14s 456us/step\n",
            "Test accuracy: 0.8143666386604309\n"
          ],
          "name": "stdout"
        }
      ]
    },
    {
      "cell_type": "code",
      "metadata": {
        "id": "siuVUE_TVKfD",
        "colab_type": "code",
        "outputId": "657ef9b2-371e-484f-8594-d7e03bd39c97",
        "colab": {
          "base_uri": "https://localhost:8080/",
          "height": 282
        }
      },
      "source": [
        "import matplotlib.pyplot as plt\n",
        "from random import randint\n",
        "%matplotlib inline  \n",
        "idx = randint(0, len(x_test))\n",
        "img = x_test[idx]\n",
        "plt.imshow(img.squeeze()) \n",
        "pred = model.predict(np.expand_dims(img, axis=0))[0]\n",
        "ind = (-pred).argsort()[:5]\n",
        "latex = [class_names[x] for x in ind]\n",
        "print(latex)"
      ],
      "execution_count": 0,
      "outputs": [
        {
          "output_type": "stream",
          "text": [
            "['lightning', 'windmill', 'ambulance', 'star', 'tractor']\n"
          ],
          "name": "stdout"
        },
        {
          "output_type": "display_data",
          "data": {
            "image/png": "[encoded data removed]",
            "text/plain": [
              "<Figure size 432x288 with 1 Axes>"
            ]
          },
          "metadata": {
            "tags": []
          }
        }
      ]
    },
    {
      "cell_type": "code",
      "metadata": {
        "id": "bwA9l_u5VPMB",
        "colab_type": "code",
        "colab": {}
      },
      "source": [
        "model.save('lstm.h5')"
      ],
      "execution_count": 0,
      "outputs": []
    },
    {
      "cell_type": "code",
      "metadata": {
        "id": "iKmsJr5pDTHi",
        "colab_type": "code",
        "colab": {}
      },
      "source": [
        ""
      ],
      "execution_count": 0,
      "outputs": []
    }
  ]
}