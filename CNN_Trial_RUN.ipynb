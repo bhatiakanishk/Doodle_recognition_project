{
  "nbformat": 4,
  "nbformat_minor": 0,
  "metadata": {
    "colab": {
      "name": "CNN_Trial_RUN.ipynb",
      "provenance": [],
      "collapsed_sections": [],
      "toc_visible": true,
      "machine_shape": "hm",
      "authorship_tag": "ABX9TyOAdWfwuFsgK7JM5iZgmPRR",
      "include_colab_link": true
    },
    "kernelspec": {
      "name": "python3",
      "display_name": "Python 3"
    },
    "accelerator": "GPU"
  },
  "cells": [
    {
      "cell_type": "markdown",
      "metadata": {
        "id": "view-in-github",
        "colab_type": "text"
      },
      "source": [
        "<a href=\"https://colab.research.google.com/github/harshitgupta1998/Doodle_recogn_BEproject/blob/master/CNN_Trial_RUN.ipynb\" target=\"_parent\"><img src=\"https://colab.research.google.com/assets/colab-badge.svg\" alt=\"Open In Colab\"/></a>"
      ]
    },
    {
      "cell_type": "code",
      "metadata": {
        "id": "WQWWb4PC7_wi",
        "colab_type": "code",
        "outputId": "1d163d69-8725-4e97-985a-329397cd9018",
        "colab": {
          "base_uri": "https://localhost:8080/",
          "height": 121
        }
      },
      "source": [
        "from tensorflow.python.client import device_lib\n",
        "device_lib.list_local_devices()\n",
        "\n",
        "from google.colab import drive\n",
        "drive.mount('/content/drive/')\n"
      ],
      "execution_count": 0,
      "outputs": [
        {
          "output_type": "stream",
          "text": [
            "Go to this URL in a browser: https://accounts.google.com/o/oauth2/auth?client_id=947318989803-6bn6qk8qdgf4n4g3pfee6491hc0brc4i.apps.googleusercontent.com&redirect_uri=urn%3aietf%3awg%3aoauth%3a2.0%3aoob&response_type=code&scope=email%20https%3a%2f%2fwww.googleapis.com%2fauth%2fdocs.test%20https%3a%2f%2fwww.googleapis.com%2fauth%2fdrive%20https%3a%2f%2fwww.googleapis.com%2fauth%2fdrive.photos.readonly%20https%3a%2f%2fwww.googleapis.com%2fauth%2fpeopleapi.readonly\n",
            "\n",
            "Enter your authorization code:\n",
            "··········\n",
            "Mounted at /content/drive/\n"
          ],
          "name": "stdout"
        }
      ]
    },
    {
      "cell_type": "code",
      "metadata": {
        "id": "JWVLpJKC_LOd",
        "colab_type": "code",
        "colab": {}
      },
      "source": [
        "import os\n",
        "import glob\n",
        "import numpy as np\n",
        "from tensorflow.keras import layers\n",
        "from tensorflow import keras \n",
        "import tensorflow as tf"
      ],
      "execution_count": 0,
      "outputs": []
    },
    {
      "cell_type": "code",
      "metadata": {
        "id": "X1dJbtkA_L2P",
        "colab_type": "code",
        "colab": {}
      },
      "source": [
        "class cnn:\n",
        "    def __init__(self):\n",
        "        self.batch_size = 128\n",
        "        self.dir_data='/content/drive/My Drive/BE_project_dataset_and_code/data/' #change to run locally\n",
        "        self.num_of_classes,self.dict =create_dic(self.dir_data)\n",
        "        self.image_size = 28\n",
        "        self.validate_data = 10000"
      ],
      "execution_count": 0,
      "outputs": []
    },
    {
      "cell_type": "code",
      "metadata": {
        "id": "_lBnSq2O_ZCa",
        "colab_type": "code",
        "outputId": "6313de46-83d4-4f1b-bf36-321636f80168",
        "colab": {
          "base_uri": "https://localhost:8080/",
          "height": 54
        }
      },
      "source": [
        "with open('mini_classes.txt','w') as f: #create a file for mini class\n",
        "    for file in sorted(os.listdir('/content/drive/My Drive/BE_project_dataset_and_code/data/')): #see how to take data from google drive into colab \n",
        "        if file.endswith(\".npy\"): #copy from drive not local drive change accordingly\n",
        "            print(file.split(\".\")[0], file = f)\n",
        "f = open(\"mini_classes.txt\",\"r\")\n",
        "# And for reading use\n",
        "classes = f.readlines()\n",
        "f.close()\n",
        "classes = [c.replace('\\n','').replace(' ','_') for c in classes]\n",
        "print(classes)\n"
      ],
      "execution_count": 0,
      "outputs": [
        {
          "output_type": "stream",
          "text": [
            "['ambulance', 'apple', 'axe', 'basketball', 'bicycle', 'boomerang', 'butterfly', 'car', 'carrot', 'cat', 'clock', 'cookie', 'cup', 'donut', 'envelope', 'flower', 'hammer', 'key', 'knife', 'lightning', 'pencil', 'pizza', 'rainbow', 'snake', 'spider', 'star', 'tractor', 'tree', 'whale', 'windmill']\n"
          ],
          "name": "stdout"
        }
      ]
    },
    {
      "cell_type": "code",
      "metadata": {
        "id": "CWpk39wfmAMg",
        "colab_type": "code",
        "colab": {}
      },
      "source": [
        ""
      ],
      "execution_count": 0,
      "outputs": []
    },
    {
      "cell_type": "code",
      "metadata": {
        "id": "RGe4LFoJAEEo",
        "colab_type": "code",
        "colab": {}
      },
      "source": [
        "dir_data='/content/drive/My Drive/BE_project_dataset_and_code/data/'\n",
        "def create_dic(dir_data):\n",
        "    dict={}\n",
        "    i=0\n",
        "    for file in sorted(os.listdir('/content/drive/My Drive/BE_project_dataset_and_code/data/')):\n",
        "        if file.endswith(\".npy\"):\n",
        "            str=file.split(\".\")\n",
        "            dict[i]=str[0]\n",
        "            i=i+1\n",
        "    return i,dict"
      ],
      "execution_count": 0,
      "outputs": []
    },
    {
      "cell_type": "code",
      "metadata": {
        "id": "iFeTkT4iATSQ",
        "colab_type": "code",
        "colab": {}
      },
      "source": [
        "def load_data(cnn):\n",
        "    dir_data='/content/drive/My Drive/BE_project_dataset_and_code/data/' #change to run locally all dir_data\n",
        "    num_of_classess,dict=create_dic(dir_data)\n",
        "    data_l=np.zeros((1))\n",
        "    data_d=np.zeros((1,cnn.image_size*cnn.image_size))\n",
        "    index=0\n",
        "    class_names = []\n",
        "    for file in sorted(os.listdir(dir_data)):\n",
        "        if file.endswith(\".npy\"):\n",
        "            print(data_l.shape,data_d.shape,\"cur label num!\",index+1,file)\n",
        "            curr_data=np.load(dir_data+file)\n",
        "            data_size=curr_data.shape\n",
        "            #take only 30 percent of the data\n",
        "            part_data=int(0.3*(data_size[0]))\n",
        "            curr_data=curr_data[1:part_data,:]\n",
        "            \n",
        "\n",
        "            #change to white background\n",
        "            curr_data=255-curr_data;\n",
        "            data_d=np.concatenate((data_d,curr_data), axis=0)\n",
        "            data_l=np.concatenate((data_l,np.ones(curr_data.shape[0])*index))\n",
        "            index=index+1\n",
        "            class_names.append(file.split('.')[0])\n",
        "\n",
        "    data_l=np.expand_dims(data_l,1)\n",
        "    data_all=np.concatenate((data_d,data_l),axis=1)\n",
        "    data_all=np.random.permutation(data_all)\n",
        "\n",
        "    x_data=data_all[:,0:-1]\n",
        "    y_data=data_all[:,-1]\n",
        "    num_img=x_data.shape[0]\n",
        "    data_img=np.reshape(x_data,[num_img,cnn.image_size,cnn.image_size])\n",
        "\n",
        "\n",
        "    data_train=data_img[cnn.validate_data:,:,:]\n",
        "    data_train=np.expand_dims(data_train,3)\n",
        "\n",
        "    labels_train=y_data[cnn.validate_data:]\n",
        "    data_test=data_img[:cnn.validate_data:,:,:]\n",
        "    data_test=np.expand_dims(data_test,3)\n",
        "\n",
        "    labels_test=y_data[:cnn.validate_data]\n",
        "\n",
        "\n",
        "    return data_train,labels_train,data_test,labels_test,class_names"
      ],
      "execution_count": 0,
      "outputs": []
    },
    {
      "cell_type": "markdown",
      "metadata": {
        "id": "6pTT77-bm76c",
        "colab_type": "text"
      },
      "source": [
        "# New Section"
      ]
    },
    {
      "cell_type": "code",
      "metadata": {
        "id": "rc9zRglTAZIJ",
        "colab_type": "code",
        "outputId": "81adabb3-db58-4d3c-ac00-2d8d34090fd9",
        "colab": {
          "base_uri": "https://localhost:8080/",
          "height": 521
        }
      },
      "source": [
        "quick_draw_cnn=cnn()\n",
        "x_train, y_train, x_test, y_test, class_names = load_data(quick_draw_cnn)\n",
        "num_classes = len(class_names)"
      ],
      "execution_count": 0,
      "outputs": [
        {
          "output_type": "stream",
          "text": [
            "(1,) (1, 784) cur label num! 1 ambulance.npy\n",
            "(44401,) (44401, 784) cur label num! 2 apple.npy\n",
            "(87816,) (87816, 784) cur label num! 3 axe.npy\n",
            "(125051,) (125051, 784) cur label num! 4 basketball.npy\n",
            "(165187,) (165187, 784) cur label num! 5 bicycle.npy\n",
            "(203144,) (203144, 784) cur label num! 6 boomerang.npy\n",
            "(245947,) (245947, 784) cur label num! 7 butterfly.npy\n",
            "(281345,) (281345, 784) cur label num! 8 car.npy\n",
            "(336173,) (336173, 784) cur label num! 9 carrot.npy\n",
            "(375909,) (375909, 784) cur label num! 10 cat.npy\n",
            "(412868,) (412868, 784) cur label num! 11 clock.npy\n",
            "(449027,) (449027, 784) cur label num! 12 cookie.npy\n",
            "(488431,) (488431, 784) cur label num! 13 cup.npy\n",
            "(527646,) (527646, 784) cur label num! 14 donut.npy\n",
            "(569870,) (569870, 784) cur label num! 15 envelope.npy\n",
            "(610327,) (610327, 784) cur label num! 16 flower.npy\n",
            "(653771,) (653771, 784) cur label num! 17 hammer.npy\n",
            "(689473,) (689473, 784) cur label num! 18 key.npy\n",
            "(737761,) (737761, 784) cur label num! 19 knife.npy\n",
            "(789556,) (789556, 784) cur label num! 20 lightning.npy\n",
            "(835023,) (835023, 784) cur label num! 21 pencil.npy\n",
            "(871622,) (871622, 784) cur label num! 22 pizza.npy\n",
            "(910732,) (910732, 784) cur label num! 23 rainbow.npy\n",
            "(948784,) (948784, 784) cur label num! 24 snake.npy\n",
            "(985464,) (985464, 784) cur label num! 25 spider.npy\n",
            "(1048297,) (1048297, 784) cur label num! 26 star.npy\n",
            "(1089581,) (1089581, 784) cur label num! 27 tractor.npy\n",
            "(1124583,) (1124583, 784) cur label num! 28 tree.npy\n",
            "(1167998,) (1167998, 784) cur label num! 29 whale.npy\n",
            "(1202947,) (1202947, 784) cur label num! 30 windmill.npy\n"
          ],
          "name": "stdout"
        }
      ]
    },
    {
      "cell_type": "code",
      "metadata": {
        "id": "No6A1HM3Ag8y",
        "colab_type": "code",
        "outputId": "c63b96c0-3feb-43dc-80dc-ce1ae7e8bf5d",
        "colab": {
          "base_uri": "https://localhost:8080/",
          "height": 282
        }
      },
      "source": [
        "import matplotlib.pyplot as plt\n",
        "from random import randint\n",
        "%matplotlib inline  \n",
        "idx = randint(0, len(x_train))\n",
        "plt.imshow(x_train[idx].reshape(28,28)) \n",
        "print(class_names[int(y_train[idx].item())])"
      ],
      "execution_count": 0,
      "outputs": [
        {
          "output_type": "stream",
          "text": [
            "windmill\n"
          ],
          "name": "stdout"
        },
        {
          "output_type": "display_data",
          "data": {
            "image/png": "[encoded data removed]",
            "text/plain": [
              "<Figure size 432x288 with 1 Axes>"
            ]
          },
          "metadata": {
            "tags": []
          }
        }
      ]
    },
    {
      "cell_type": "code",
      "metadata": {
        "id": "3aK75a7XAv9D",
        "colab_type": "code",
        "colab": {}
      },
      "source": [
        "x_train = x_train.reshape(x_train.shape[0], quick_draw_cnn.image_size, quick_draw_cnn.image_size, 1).astype('float32')\n",
        "x_test = x_test.reshape(x_test.shape[0], quick_draw_cnn.image_size, quick_draw_cnn.image_size, 1).astype('float32')\n",
        "\n",
        "x_train /= 255.0\n",
        "x_test /= 255.0\n",
        "\n",
        "# Convert class vectors to class matrices\n",
        "y_train = keras.utils.to_categorical(y_train, num_classes)\n",
        "y_test = keras.utils.to_categorical(y_test, num_classes)\n"
      ],
      "execution_count": 0,
      "outputs": []
    },
    {
      "cell_type": "code",
      "metadata": {
        "id": "-2mYt6NKAwah",
        "colab_type": "code",
        "outputId": "8bb74de3-0007-44a0-dfb1-7c975eb9cb59",
        "colab": {
          "base_uri": "https://localhost:8080/",
          "height": 608
        }
      },
      "source": [
        "model = keras.Sequential()\n",
        "model.add(layers.Convolution2D(filters=32, kernel_size=[5,5], padding='same',input_shape=x_train.shape[1:], activation='relu'))\n",
        "model.add(layers.MaxPooling2D(pool_size=(2, 2), strides=2))\n",
        "\n",
        "model.add(layers.Convolution2D(filters=32, kernel_size=[5,5],padding='same', activation= 'relu'))\n",
        "model.add(layers.MaxPooling2D(pool_size=(2, 2), strides=2))\n",
        "\n",
        "model.add(layers.Convolution2D(filters=32, kernel_size=[5,5],padding='same', activation= 'relu'))\n",
        "model.add(layers.MaxPooling2D(pool_size=(2, 2), strides=2))\n",
        "\n",
        "model.add(layers.Convolution2D(filters=32, kernel_size=[5,5],padding='same', activation= 'relu'))\n",
        "model.add(layers.MaxPooling2D(pool_size=(2, 2), strides=2))\n",
        "\n",
        "model.add(layers.Flatten())\n",
        "model.add(layers.Dense(units=500, activation='relu'))\n",
        "model.add(layers.Dense(units=num_classes, activation='softmax')) \n",
        "# Train model\n",
        "adam = tf.train.AdamOptimizer()\n",
        "model.compile(loss='categorical_crossentropy',\n",
        "              optimizer=adam,\n",
        "              metrics=['top_k_categorical_accuracy'])\n",
        "print(model.summary())"
      ],
      "execution_count": 0,
      "outputs": [
        {
          "output_type": "stream",
          "text": [
            "WARNING:tensorflow:From /tensorflow-1.15.0/python3.6/tensorflow_core/python/ops/resource_variable_ops.py:1630: calling BaseResourceVariable.__init__ (from tensorflow.python.ops.resource_variable_ops) with constraint is deprecated and will be removed in a future version.\n",
            "Instructions for updating:\n",
            "If using Keras pass *_constraint arguments to layers.\n",
            "Model: \"sequential\"\n",
            "_________________________________________________________________\n",
            "Layer (type)                 Output Shape              Param #   \n",
            "=================================================================\n",
            "conv2d (Conv2D)              (None, 28, 28, 32)        832       \n",
            "_________________________________________________________________\n",
            "max_pooling2d (MaxPooling2D) (None, 14, 14, 32)        0         \n",
            "_________________________________________________________________\n",
            "conv2d_1 (Conv2D)            (None, 14, 14, 32)        25632     \n",
            "_________________________________________________________________\n",
            "max_pooling2d_1 (MaxPooling2 (None, 7, 7, 32)          0         \n",
            "_________________________________________________________________\n",
            "conv2d_2 (Conv2D)            (None, 7, 7, 32)          25632     \n",
            "_________________________________________________________________\n",
            "max_pooling2d_2 (MaxPooling2 (None, 3, 3, 32)          0         \n",
            "_________________________________________________________________\n",
            "conv2d_3 (Conv2D)            (None, 3, 3, 32)          25632     \n",
            "_________________________________________________________________\n",
            "max_pooling2d_3 (MaxPooling2 (None, 1, 1, 32)          0         \n",
            "_________________________________________________________________\n",
            "flatten (Flatten)            (None, 32)                0         \n",
            "_________________________________________________________________\n",
            "dense (Dense)                (None, 500)               16500     \n",
            "_________________________________________________________________\n",
            "dense_1 (Dense)              (None, 30)                15030     \n",
            "=================================================================\n",
            "Total params: 109,258\n",
            "Trainable params: 109,258\n",
            "Non-trainable params: 0\n",
            "_________________________________________________________________\n",
            "None\n"
          ],
          "name": "stdout"
        }
      ]
    },
    {
      "cell_type": "code",
      "metadata": {
        "id": "Q-62qVo2BXrS",
        "colab_type": "code",
        "outputId": "0984e538-e893-4f0d-e5d6-b09fd8e94ada",
        "colab": {
          "base_uri": "https://localhost:8080/",
          "height": 423
        }
      },
      "source": [
        "model.fit(x = x_train, y = y_train, validation_data=(x_test, y_test), batch_size=quick_draw_cnn.batch_size, epochs=10)\n",
        "acc = model.evaluate(x_test, y_test,batch_size=quick_draw_cnn.batch_size)\n",
        "print('Test accuracy:', acc[1])"
      ],
      "execution_count": 0,
      "outputs": [
        {
          "output_type": "stream",
          "text": [
            "Train on 1229139 samples, validate on 10000 samples\n",
            "Epoch 1/10\n",
            "1229139/1229139 [==============================] - 55s 45us/sample - loss: 0.5984 - top_k_categorical_accuracy: 0.9581 - val_loss: 0.4105 - val_top_k_categorical_accuracy: 0.9741\n",
            "Epoch 2/10\n",
            "1229139/1229139 [==============================] - 48s 39us/sample - loss: 0.3856 - top_k_categorical_accuracy: 0.9759 - val_loss: 0.3644 - val_top_k_categorical_accuracy: 0.9766\n",
            "Epoch 3/10\n",
            "1229139/1229139 [==============================] - 48s 39us/sample - loss: 0.3510 - top_k_categorical_accuracy: 0.9781 - val_loss: 0.3394 - val_top_k_categorical_accuracy: 0.9784\n",
            "Epoch 4/10\n",
            "1229139/1229139 [==============================] - 48s 39us/sample - loss: 0.3333 - top_k_categorical_accuracy: 0.9792 - val_loss: 0.3350 - val_top_k_categorical_accuracy: 0.9784\n",
            "Epoch 5/10\n",
            "1229139/1229139 [==============================] - 47s 38us/sample - loss: 0.3222 - top_k_categorical_accuracy: 0.9799 - val_loss: 0.3334 - val_top_k_categorical_accuracy: 0.9775\n",
            "Epoch 6/10\n",
            "1229139/1229139 [==============================] - 47s 39us/sample - loss: 0.3146 - top_k_categorical_accuracy: 0.9803 - val_loss: 0.3367 - val_top_k_categorical_accuracy: 0.9780\n",
            "Epoch 7/10\n",
            "1229139/1229139 [==============================] - 48s 39us/sample - loss: 0.3086 - top_k_categorical_accuracy: 0.9807 - val_loss: 0.3167 - val_top_k_categorical_accuracy: 0.9786\n",
            "Epoch 8/10\n",
            "1229139/1229139 [==============================] - 48s 39us/sample - loss: 0.3037 - top_k_categorical_accuracy: 0.9810 - val_loss: 0.3258 - val_top_k_categorical_accuracy: 0.9781\n",
            "Epoch 9/10\n",
            "1229139/1229139 [==============================] - 48s 39us/sample - loss: 0.2998 - top_k_categorical_accuracy: 0.9812 - val_loss: 0.3180 - val_top_k_categorical_accuracy: 0.9781\n",
            "Epoch 10/10\n",
            "1229139/1229139 [==============================] - 49s 40us/sample - loss: 0.2971 - top_k_categorical_accuracy: 0.9814 - val_loss: 0.3163 - val_top_k_categorical_accuracy: 0.9786\n",
            "10000/10000 [==============================] - 0s 19us/sample - loss: 0.3163 - top_k_categorical_accuracy: 0.9786\n",
            "Test accuracy: 0.9786\n"
          ],
          "name": "stdout"
        }
      ]
    },
    {
      "cell_type": "code",
      "metadata": {
        "id": "9TNOuHBQBcjj",
        "colab_type": "code",
        "colab": {}
      },
      "source": [
        "with open('class_names.txt', 'w') as file_handler:\n",
        "    for item in class_names:\n",
        "        file_handler.write(\"{}\\n\".format(item))"
      ],
      "execution_count": 0,
      "outputs": []
    },
    {
      "cell_type": "code",
      "metadata": {
        "id": "fqu0ZROtBc1f",
        "colab_type": "code",
        "outputId": "32b59220-2bf3-44ae-87a3-6fe04d78bd00",
        "colab": {
          "base_uri": "https://localhost:8080/",
          "height": 54
        }
      },
      "source": [
        "model.save('keras.h5')"
      ],
      "execution_count": 0,
      "outputs": [
        {
          "output_type": "stream",
          "text": [
            "WARNING:tensorflow:TensorFlow optimizers do not make it possible to access optimizer attributes or optimizer state after instantiation. As a result, we cannot save the optimizer as part of the model save file. You will have to compile your model again after loading it. Prefer using a Keras optimizer instead (see keras.io/optimizers).\n"
          ],
          "name": "stdout"
        }
      ]
    },
    {
      "cell_type": "code",
      "metadata": {
        "id": "q1BdX-YHBkeh",
        "colab_type": "code",
        "colab": {}
      },
      "source": [
        "!pip install --upgrade pip"
      ],
      "execution_count": 0,
      "outputs": []
    },
    {
      "cell_type": "code",
      "metadata": {
        "id": "a-oMvylaBk1m",
        "colab_type": "code",
        "colab": {}
      },
      "source": [
        "!tensorflowjs_converter --input_format keras keras.h5 model/"
      ],
      "execution_count": 0,
      "outputs": []
    },
    {
      "cell_type": "code",
      "metadata": {
        "id": "VmDiFLcXBn3Y",
        "colab_type": "code",
        "colab": {}
      },
      "source": [
        "!pip install -q keras\n"
      ],
      "execution_count": 0,
      "outputs": []
    },
    {
      "cell_type": "code",
      "metadata": {
        "id": "JtaVEK7un5Pt",
        "colab_type": "code",
        "colab": {}
      },
      "source": [
        "import keras\n"
      ],
      "execution_count": 0,
      "outputs": []
    },
    {
      "cell_type": "code",
      "metadata": {
        "id": "dpKwrtbaoBl1",
        "colab_type": "code",
        "colab": {}
      },
      "source": [
        ""
      ],
      "execution_count": 0,
      "outputs": []
    }
  ]
}