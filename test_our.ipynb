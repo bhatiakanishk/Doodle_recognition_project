{
  "nbformat": 4,
  "nbformat_minor": 0,
  "metadata": {
    "colab": {
      "name": "test_our.ipynb",
      "provenance": [],
      "collapsed_sections": [],
      "authorship_tag": "ABX9TyPAgC6jUs5IO5FLn7ldn0jV",
      "include_colab_link": true
    },
    "kernelspec": {
      "name": "python3",
      "display_name": "Python 3"
    }
  },
  "cells": [
    {
      "cell_type": "markdown",
      "metadata": {
        "id": "view-in-github",
        "colab_type": "text"
      },
      "source": [
        "<a href=\"https://colab.research.google.com/github/harshitgupta1998/Doodle_recogn_BEproject/blob/master/test_our.ipynb\" target=\"_parent\"><img src=\"https://colab.research.google.com/assets/colab-badge.svg\" alt=\"Open In Colab\"/></a>"
      ]
    },
    {
      "cell_type": "code",
      "metadata": {
        "id": "b4vQPey7BzuH",
        "colab_type": "code",
        "colab": {}
      },
      "source": [
        "from __future__ import absolute_import\n",
        "from __future__ import division\n",
        "from __future__ import print_function\n",
        "import cv2"
      ],
      "execution_count": 0,
      "outputs": []
    },
    {
      "cell_type": "code",
      "metadata": {
        "id": "O-XrnYHECEcQ",
        "colab_type": "code",
        "colab": {
          "base_uri": "https://localhost:8080/",
          "height": 62
        },
        "outputId": "01771645-b270-4266-f2b8-9d4b465d6d56"
      },
      "source": [
        "import argparse\n",
        "import json\n",
        "import os\n",
        "import random\n",
        "import sys\n",
        "import numpy as np\n",
        "import tensorflow as tf\n",
        "import numpy as np\n",
        "#print(path+'/fisr.png')\n",
        "import test as test"
      ],
      "execution_count": 2,
      "outputs": [
        {
          "output_type": "display_data",
          "data": {
            "text/html": [
              "<p style=\"color: red;\">\n",
              "The default version of TensorFlow in Colab will soon switch to TensorFlow 2.x.<br>\n",
              "We recommend you <a href=\"https://www.tensorflow.org/guide/migrate\" target=\"_blank\">upgrade</a> now \n",
              "or ensure your notebook will continue to use TensorFlow 1.x via the <code>%tensorflow_version 1.x</code> magic:\n",
              "<a href=\"https://colab.research.google.com/notebooks/tensorflow_version.ipynb\" target=\"_blank\">more info</a>.</p>\n"
            ],
            "text/plain": [
              "<IPython.core.display.HTML object>"
            ]
          },
          "metadata": {
            "tags": []
          }
        }
      ]
    },
    {
      "cell_type": "code",
      "metadata": {
        "id": "mM5A08LpCHEV",
        "colab_type": "code",
        "colab": {}
      },
      "source": [
        "def create_dic(dir_data):\n",
        "    dict={}\n",
        "    i=0\n",
        "    for file in sorted(os.listdir(dir_data)):\n",
        "        if file.endswith(\".npy\"):\n",
        "            str=file.split(\".\")\n",
        "            dict[i]=str[0]\n",
        "            i=i+1\n",
        "    return i,dict"
      ],
      "execution_count": 0,
      "outputs": []
    },
    {
      "cell_type": "code",
      "metadata": {
        "id": "ujRYTsalCQc1",
        "colab_type": "code",
        "outputId": "0c91ca37-f47f-41d8-b7ef-68896dab1457",
        "colab": {
          "base_uri": "https://localhost:8080/",
          "height": 34
        }
      },
      "source": [
        "from google.colab import drive\n",
        "drive.mount('/content/drive/')\n"
      ],
      "execution_count": 13,
      "outputs": [
        {
          "output_type": "stream",
          "text": [
            "Drive already mounted at /content/drive/; to attempt to forcibly remount, call drive.mount(\"/content/drive/\", force_remount=True).\n"
          ],
          "name": "stdout"
        }
      ]
    },
    {
      "cell_type": "code",
      "metadata": {
        "id": "n_fmoivCTgrW",
        "colab_type": "code",
        "colab": {}
      },
      "source": [
        "class cnn:\n",
        "    def __init__(self):\n",
        "        self.batch_size = 128\n",
        "        self.dir_data='/content/drive/My Drive/BE_project_dataset_and_code/data/'\n",
        "        self.num_of_classes,self.dict =create_dic(self.dir_data)\n",
        "        self.image_size = 28\n",
        "        self.validate_data = 3000"
      ],
      "execution_count": 0,
      "outputs": []
    },
    {
      "cell_type": "code",
      "metadata": {
        "id": "wjW0W5CSC3Xj",
        "colab_type": "code",
        "outputId": "dda0530e-a89c-498f-8ba6-fc3075eb5c89",
        "colab": {
          "base_uri": "https://localhost:8080/",
          "height": 34
        }
      },
      "source": [
        "image_size=28\n",
        "axe_data=np.load('/content/drive/My Drive/BE_project_dataset_and_code/data/axe.npy')\n",
        "test_im=axe_data[1:100]\n",
        "test_im=np.reshape(test_im,[test_im.shape[0],image_size,image_size,1])\n",
        "print(test_im.shape)\n",
        "#train_cnn(test_im)\n",
        "cwd = os.getcwd()\n",
        "quick_draw = {0: 'axe', 1: 'cat', 2:'apple',3:'butterfly',4:'carrot',5:'clock'}\n",
        "reversed_quik_draw = dict(map(reversed, quick_draw.items()))\n"
      ],
      "execution_count": 15,
      "outputs": [
        {
          "output_type": "stream",
          "text": [
            "(99, 28, 28, 1)\n"
          ],
          "name": "stdout"
        }
      ]
    },
    {
      "cell_type": "code",
      "metadata": {
        "id": "ob0OXpgZDFA4",
        "colab_type": "code",
        "colab": {}
      },
      "source": [
        "files_num=0\n",
        "for i,file in enumerate(os.listdir('/content/drive/My Drive/BE_project_dataset_and_code/Test_Images/')):\n",
        "    filename = os.fsdecode(file)\n",
        "    if filename.endswith(\".jpg\") : #upload the test images to be tested in jpeg format from git\n",
        "        files_num=files_num+1\n"
      ],
      "execution_count": 0,
      "outputs": []
    },
    {
      "cell_type": "markdown",
      "metadata": {
        "id": "WS4r8rYjDX3y",
        "colab_type": "text"
      },
      "source": [
        ""
      ]
    },
    {
      "cell_type": "code",
      "metadata": {
        "id": "okDMb6dkDlqN",
        "colab_type": "code",
        "outputId": "5adcb840-91e2-43fa-e79f-7ff16d441d89",
        "colab": {
          "base_uri": "https://localhost:8080/",
          "height": 34
        }
      },
      "source": [
        "batch=np.zeros((files_num,image_size,image_size))\n",
        "print(batch.shape)\n",
        "labels=np.zeros(files_num)\n",
        "\n",
        "\n"
      ],
      "execution_count": 18,
      "outputs": [
        {
          "output_type": "stream",
          "text": [
            "(10, 28, 28)\n"
          ],
          "name": "stdout"
        }
      ]
    },
    {
      "cell_type": "code",
      "metadata": {
        "id": "15pduQY_DzMW",
        "colab_type": "code",
        "outputId": "6e71eb7a-e748-4b5e-a57a-b8ae5ca23984",
        "colab": {
          "base_uri": "https://localhost:8080/",
          "height": 521
        }
      },
      "source": [
        "for i,file in enumerate(os.listdir('/content/drive/My Drive/BE_project_dataset_and_code/Test_Images/')):# change the path \n",
        "    filename = os.fsdecode(file)\n",
        "    if filename.endswith(\".jpg\") :\n",
        "        print(\"file name!!!!!!!!!!!!!!!!!!!!!!!\",filename,i)\n",
        "        img_name=filename\n",
        "        img = cv2.imread('/content/drive/My Drive/BE_project_dataset_and_code/Test_Images/'+img_name,0)\n",
        "        img=255-img\n",
        "        print(img.shape)\n",
        "        resized_image = cv2.resize(img, (image_size, image_size),interpolation = cv2.INTER_CUBIC)\n",
        "        cv2.imwrite('process_img/'+img_name, resized_image)\n",
        "        resized_image=np.expand_dims(resized_image,0)\n",
        "        resized_image=np.expand_dims(resized_image,3)\n",
        "        print(resized_image.shape,\"-0-0--0-\")"
      ],
      "execution_count": 22,
      "outputs": [
        {
          "output_type": "stream",
          "text": [
            "file name!!!!!!!!!!!!!!!!!!!!!!! butterfly.jpg 0\n",
            "(1024, 1024)\n",
            "(1, 28, 28, 1) -0-0--0-\n",
            "file name!!!!!!!!!!!!!!!!!!!!!!! carrot.jpg 1\n",
            "(1024, 1024)\n",
            "(1, 28, 28, 1) -0-0--0-\n",
            "file name!!!!!!!!!!!!!!!!!!!!!!! clock.jpg 2\n",
            "(1024, 1024)\n",
            "(1, 28, 28, 1) -0-0--0-\n",
            "file name!!!!!!!!!!!!!!!!!!!!!!! cat.jpg 3\n",
            "(1012, 1012)\n",
            "(1, 28, 28, 1) -0-0--0-\n",
            "file name!!!!!!!!!!!!!!!!!!!!!!! cat_pre.jpg 4\n",
            "(28, 28)\n",
            "(1, 28, 28, 1) -0-0--0-\n",
            "file name!!!!!!!!!!!!!!!!!!!!!!! apple_pre.jpg 5\n",
            "(28, 28)\n",
            "(1, 28, 28, 1) -0-0--0-\n",
            "file name!!!!!!!!!!!!!!!!!!!!!!! axe.jpg 6\n",
            "(1024, 1024)\n",
            "(1, 28, 28, 1) -0-0--0-\n",
            "file name!!!!!!!!!!!!!!!!!!!!!!! axe2.jpg 7\n",
            "(1024, 1024)\n",
            "(1, 28, 28, 1) -0-0--0-\n",
            "file name!!!!!!!!!!!!!!!!!!!!!!! axe_pre.jpg 8\n",
            "(28, 28)\n",
            "(1, 28, 28, 1) -0-0--0-\n",
            "file name!!!!!!!!!!!!!!!!!!!!!!! apple.jpg 9\n",
            "(1024, 1024)\n",
            "(1, 28, 28, 1) -0-0--0-\n"
          ],
          "name": "stdout"
        }
      ]
    },
    {
      "cell_type": "code",
      "metadata": {
        "id": "h_Ektn80D7_J",
        "colab_type": "code",
        "outputId": "8ac9f10b-8096-4441-c78a-6fa41c326b5e",
        "colab": {
          "base_uri": "https://localhost:8080/",
          "height": 50
        }
      },
      "source": [
        "print(batch.shape,\"000000000\")\n",
        "batch=np.expand_dims(batch,3)\n",
        "print(batch.shape,\"000000000\")\n",
        "\n"
      ],
      "execution_count": 23,
      "outputs": [
        {
          "output_type": "stream",
          "text": [
            "(10, 28, 28) 000000000\n",
            "(10, 28, 28, 1) 000000000\n"
          ],
          "name": "stdout"
        }
      ]
    },
    {
      "cell_type": "code",
      "metadata": {
        "id": "tvV7wcPRF8A5",
        "colab_type": "code",
        "outputId": "8e11023c-337a-4cef-963e-9ae2d40efe46",
        "colab": {
          "base_uri": "https://localhost:8080/",
          "height": 229
        }
      },
      "source": [
        "y_predicted=test.test_cnn(batch)\n",
        "def main(args):\n",
        "    quick_draw_cnn=cnn()\n",
        "    img = cv2.imread(args.draw_path,0)\n",
        "    print(img.shape)\n",
        "    num_of_classess,dict=create_dic('../data/')\n",
        "    resized_image = cv2.resize(img, (quick_draw_cnn.image_size, quick_draw_cnn.image_size),interpolation = cv2.INTER_CUBIC)\n",
        "    resized_image=np.expand_dims(resized_image,0)\n",
        "    resized_image=np.expand_dims(resized_image,3)\n",
        "    y_predicted=test.test_cnn(quick_draw_cnn,resized_image,1)\n",
        "    print(dict)\n",
        "    print(\"You inserted an \",dict[int(args.label)],\"draw and our CNN predicted it as \",dict[int(y_predicted)-1])"
      ],
      "execution_count": 24,
      "outputs": [
        {
          "output_type": "error",
          "ename": "AttributeError",
          "evalue": "ignored",
          "traceback": [
            "\u001b[0;31m---------------------------------------------------------------------------\u001b[0m",
            "\u001b[0;31mAttributeError\u001b[0m                            Traceback (most recent call last)",
            "\u001b[0;32m<ipython-input-24-194288a69700>\u001b[0m in \u001b[0;36m<module>\u001b[0;34m()\u001b[0m\n\u001b[0;32m----> 1\u001b[0;31m \u001b[0my_predicted\u001b[0m\u001b[0;34m=\u001b[0m\u001b[0mtest\u001b[0m\u001b[0;34m.\u001b[0m\u001b[0mtest_cnn\u001b[0m\u001b[0;34m(\u001b[0m\u001b[0mbatch\u001b[0m\u001b[0;34m)\u001b[0m\u001b[0;34m\u001b[0m\u001b[0;34m\u001b[0m\u001b[0m\n\u001b[0m\u001b[1;32m      2\u001b[0m \u001b[0;32mdef\u001b[0m \u001b[0mmain\u001b[0m\u001b[0;34m(\u001b[0m\u001b[0margs\u001b[0m\u001b[0;34m)\u001b[0m\u001b[0;34m:\u001b[0m\u001b[0;34m\u001b[0m\u001b[0;34m\u001b[0m\u001b[0m\n\u001b[1;32m      3\u001b[0m     \u001b[0mquick_draw_cnn\u001b[0m\u001b[0;34m=\u001b[0m\u001b[0mcnn\u001b[0m\u001b[0;34m(\u001b[0m\u001b[0;34m)\u001b[0m\u001b[0;34m\u001b[0m\u001b[0;34m\u001b[0m\u001b[0m\n\u001b[1;32m      4\u001b[0m     \u001b[0mimg\u001b[0m \u001b[0;34m=\u001b[0m \u001b[0mcv2\u001b[0m\u001b[0;34m.\u001b[0m\u001b[0mimread\u001b[0m\u001b[0;34m(\u001b[0m\u001b[0margs\u001b[0m\u001b[0;34m.\u001b[0m\u001b[0mdraw_path\u001b[0m\u001b[0;34m,\u001b[0m\u001b[0;36m0\u001b[0m\u001b[0;34m)\u001b[0m\u001b[0;34m\u001b[0m\u001b[0;34m\u001b[0m\u001b[0m\n\u001b[1;32m      5\u001b[0m     \u001b[0mprint\u001b[0m\u001b[0;34m(\u001b[0m\u001b[0mimg\u001b[0m\u001b[0;34m.\u001b[0m\u001b[0mshape\u001b[0m\u001b[0;34m)\u001b[0m\u001b[0;34m\u001b[0m\u001b[0;34m\u001b[0m\u001b[0m\n",
            "\u001b[0;31mAttributeError\u001b[0m: module 'test' has no attribute 'test_cnn'"
          ]
        }
      ]
    },
    {
      "cell_type": "code",
      "metadata": {
        "id": "ox0iWG4iF_qC",
        "colab_type": "code",
        "outputId": "a3cc7008-3b35-4887-a83e-74ca0b32d50f",
        "colab": {
          "base_uri": "https://localhost:8080/",
          "height": 178
        }
      },
      "source": [
        "if __name__ == '__main__':\n",
        "    parser = argparse.ArgumentParser()\n",
        "    parser.add_argument('-dp', '--draw_path', )\n",
        "    parser.add_argument('-lab', '--label', )\n",
        "    args = parser.parse_args()\n",
        "    print(\"-----------------------------------------------------------------------\")\n",
        "    print(\"Try to identify draw: \" ,args.draw_path)\n",
        "    print(\"-----------------------------------------------------------------------\")\n",
        "    main(args)"
      ],
      "execution_count": 0,
      "outputs": [
        {
          "output_type": "stream",
          "text": [
            "usage: ipykernel_launcher.py [-h] [-dp DRAW_PATH] [-lab LABEL]\n",
            "ipykernel_launcher.py: error: unrecognized arguments: -f /root/.local/share/jupyter/runtime/kernel-9c0698c0-6ea1-4037-8775-205e60505b30.json\n"
          ],
          "name": "stderr"
        },
        {
          "output_type": "error",
          "ename": "SystemExit",
          "evalue": "ignored",
          "traceback": [
            "An exception has occurred, use %tb to see the full traceback.\n",
            "\u001b[0;31mSystemExit\u001b[0m\u001b[0;31m:\u001b[0m 2\n"
          ]
        },
        {
          "output_type": "stream",
          "text": [
            "/usr/local/lib/python3.6/dist-packages/IPython/core/interactiveshell.py:2890: UserWarning: To exit: use 'exit', 'quit', or Ctrl-D.\n",
            "  warn(\"To exit: use 'exit', 'quit', or Ctrl-D.\", stacklevel=1)\n"
          ],
          "name": "stderr"
        }
      ]
    },
    {
      "cell_type": "code",
      "metadata": {
        "id": "q_y0nVF6GEah",
        "colab_type": "code",
        "colab": {}
      },
      "source": [
        ""
      ],
      "execution_count": 0,
      "outputs": []
    }
  ]
}