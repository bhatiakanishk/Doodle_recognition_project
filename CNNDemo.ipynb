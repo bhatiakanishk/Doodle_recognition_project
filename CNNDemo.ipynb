{
  "nbformat": 4,
  "nbformat_minor": 0,
  "metadata": {
    "colab": {
      "name": "CNNDemo.ipynb",
      "provenance": [],
      "collapsed_sections": [],
      "toc_visible": true,
      "authorship_tag": "ABX9TyOJG14JwCQK5kgeGbV0A/Rg",
      "include_colab_link": true
    },
    "kernelspec": {
      "name": "python3",
      "display_name": "Python 3"
    },
    "accelerator": "GPU"
  },
  "cells": [
    {
      "cell_type": "markdown",
      "metadata": {
        "id": "view-in-github",
        "colab_type": "text"
      },
      "source": [
        "<a href=\"https://colab.research.google.com/github/harshitgupta1998/House_price_prediction/blob/master/CNNDemo.ipynb\" target=\"_parent\"><img src=\"https://colab.research.google.com/assets/colab-badge.svg\" alt=\"Open In Colab\"/></a>"
      ]
    },
    {
      "cell_type": "code",
      "metadata": {
        "id": "WQWWb4PC7_wi",
        "colab_type": "code",
        "colab": {}
      },
      "source": [
        "from tensorflow.python.client import device_lib\n",
        "device_lib.list_local_devices()\n"
      ],
      "execution_count": 0,
      "outputs": []
    },
    {
      "cell_type": "code",
      "metadata": {
        "id": "JWVLpJKC_LOd",
        "colab_type": "code",
        "colab": {}
      },
      "source": [
        "import os\n",
        "import glob\n",
        "import numpy as np\n",
        "from tensorflow.keras import layers\n",
        "from tensorflow import keras \n",
        "import tensorflow as tf"
      ],
      "execution_count": 0,
      "outputs": []
    },
    {
      "cell_type": "code",
      "metadata": {
        "id": "X1dJbtkA_L2P",
        "colab_type": "code",
        "colab": {}
      },
      "source": [
        "class cnn:\n",
        "    def __init__(self):\n",
        "        self.batch_size = 128\n",
        "        self.dir_data='data/'\n",
        "        self.num_of_classes,self.dict =create_dic(self.dir_data)\n",
        "        self.image_size = 28\n",
        "        self.validate_data = 10000"
      ],
      "execution_count": 0,
      "outputs": []
    },
    {
      "cell_type": "code",
      "metadata": {
        "id": "_lBnSq2O_ZCa",
        "colab_type": "code",
        "outputId": "53660861-ab2d-4b77-8f04-e00d46e35e3d",
        "colab": {
          "base_uri": "https://localhost:8080/",
          "height": 121
        }
      },
      "source": [
        "with open('mini_classes.txt','w') as f:\n",
        "    for file in sorted(os.listdir('/content/drive/My Drive/BE_project_dataset_and_code/data')): #see how to take data from google drive into colab \n",
        "        if file.endswith(\".npy\"):\n",
        "            print(file.split(\".\")[0], file = f)\n",
        "f = open(\"mini_classes.txt\",\"r\")\n",
        "# And for reading use\n",
        "classes = f.readlines()\n",
        "f.close()\n",
        "classes = [c.replace('\\n','').replace(' ','_') for c in classes]\n"
      ],
      "execution_count": 0,
      "outputs": [
        {
          "output_type": "stream",
          "text": [
            "Go to this URL in a browser: https://accounts.google.com/o/oauth2/auth?client_id=947318989803-6bn6qk8qdgf4n4g3pfee6491hc0brc4i.apps.googleusercontent.com&redirect_uri=urn%3aietf%3awg%3aoauth%3a2.0%3aoob&response_type=code&scope=email%20https%3a%2f%2fwww.googleapis.com%2fauth%2fdocs.test%20https%3a%2f%2fwww.googleapis.com%2fauth%2fdrive%20https%3a%2f%2fwww.googleapis.com%2fauth%2fdrive.photos.readonly%20https%3a%2f%2fwww.googleapis.com%2fauth%2fpeopleapi.readonly\n",
            "\n",
            "Enter your authorization code:\n",
            "··········\n",
            "Mounted at /content/drive\n"
          ],
          "name": "stdout"
        }
      ]
    },
    {
      "cell_type": "code",
      "metadata": {
        "id": "CWpk39wfmAMg",
        "colab_type": "code",
        "outputId": "6c195bc8-c232-4076-f89c-20a24898aeb6",
        "colab": {
          "base_uri": "https://localhost:8080/",
          "height": 34
        }
      },
      "source": [
        "from google.colab import drive\n",
        "drive.mount('/content/drive/')"
      ],
      "execution_count": 7,
      "outputs": [
        {
          "output_type": "stream",
          "text": [
            "Drive already mounted at /content/drive/; to attempt to forcibly remount, call drive.mount(\"/content/drive/\", force_remount=True).\n"
          ],
          "name": "stdout"
        }
      ]
    },
    {
      "cell_type": "code",
      "metadata": {
        "id": "RGe4LFoJAEEo",
        "colab_type": "code",
        "colab": {}
      },
      "source": [
        "def create_dic(dir_data):\n",
        "    dict={}\n",
        "    i=0\n",
        "    for file in sorted(os.listdir(dir_data)):\n",
        "        if file.endswith(\".npy\"):\n",
        "            str=file.split(\".\")\n",
        "            dict[i]=str[0]\n",
        "            i=i+1\n",
        "    return i,dict"
      ],
      "execution_count": 0,
      "outputs": []
    },
    {
      "cell_type": "code",
      "metadata": {
        "id": "iFeTkT4iATSQ",
        "colab_type": "code",
        "colab": {}
      },
      "source": [
        "def load_data(cnn):\n",
        "    dir_data='data/'\n",
        "    num_of_classess,dict=create_dic(dir_data)\n",
        "    data_l=np.zeros((1))\n",
        "    data_d=np.zeros((1,cnn.image_size*cnn.image_size))\n",
        "    index=0\n",
        "    class_names = []\n",
        "    for file in sorted(os.listdir(dir_data)):\n",
        "        if file.endswith(\".npy\"):\n",
        "            print(data_l.shape,data_d.shape,\"cur label num!\",index+1,file)\n",
        "            curr_data=np.load(dir_data+file)\n",
        "            data_size=curr_data.shape\n",
        "            #take only 30 percent of the data\n",
        "            part_data=int(0.3*(data_size[0]))\n",
        "            curr_data=curr_data[1:part_data,:]\n",
        "            \n",
        "\n",
        "            #change to white background\n",
        "            curr_data=255-curr_data;\n",
        "            data_d=np.concatenate((data_d,curr_data), axis=0)\n",
        "            data_l=np.concatenate((data_l,np.ones(curr_data.shape[0])*index))\n",
        "            index=index+1\n",
        "            class_names.append(file.split('.')[0])\n",
        "\n",
        "    data_l=np.expand_dims(data_l,1)\n",
        "    data_all=np.concatenate((data_d,data_l),axis=1)\n",
        "    data_all=np.random.permutation(data_all)\n",
        "\n",
        "    x_data=data_all[:,0:-1]\n",
        "    y_data=data_all[:,-1]\n",
        "    num_img=x_data.shape[0]\n",
        "    data_img=np.reshape(x_data,[num_img,cnn.image_size,cnn.image_size])\n",
        "\n",
        "\n",
        "    data_train=data_img[cnn.validate_data:,:,:]\n",
        "    data_train=np.expand_dims(data_train,3)\n",
        "\n",
        "    labels_train=y_data[cnn.validate_data:]\n",
        "    data_test=data_img[:cnn.validate_data:,:,:]\n",
        "    data_test=np.expand_dims(data_test,3)\n",
        "\n",
        "    labels_test=y_data[:cnn.validate_data]\n",
        "\n",
        "\n",
        "    return data_train,labels_train,data_test,labels_test,class_names"
      ],
      "execution_count": 0,
      "outputs": []
    },
    {
      "cell_type": "markdown",
      "metadata": {
        "id": "6pTT77-bm76c",
        "colab_type": "text"
      },
      "source": [
        "# New Section"
      ]
    },
    {
      "cell_type": "code",
      "metadata": {
        "id": "rc9zRglTAZIJ",
        "colab_type": "code",
        "colab": {}
      },
      "source": [
        "quick_draw_cnn=cnn()\n",
        "x_train, y_train, x_test, y_test, class_names = load_data(quick_draw_cnn)\n",
        "num_classes = len(class_names)"
      ],
      "execution_count": 0,
      "outputs": []
    },
    {
      "cell_type": "code",
      "metadata": {
        "id": "No6A1HM3Ag8y",
        "colab_type": "code",
        "colab": {}
      },
      "source": [
        "import matplotlib.pyplot as plt\n",
        "from random import randint\n",
        "%matplotlib inline  \n",
        "idx = randint(0, len(x_train))\n",
        "plt.imshow(x_train[idx].reshape(28,28)) \n",
        "print(class_names[int(y_train[idx].item())])"
      ],
      "execution_count": 0,
      "outputs": []
    },
    {
      "cell_type": "code",
      "metadata": {
        "id": "3aK75a7XAv9D",
        "colab_type": "code",
        "outputId": "71341061-211e-4f98-d50b-f78d2b5e5b7d",
        "colab": {
          "base_uri": "https://localhost:8080/",
          "height": 229
        }
      },
      "source": [
        "x_train = x_train.reshape(x_train.shape[0], quick_draw_cnn.image_size, quick_draw_cnn.image_size, 1).astype('float32')\n",
        "x_test = x_test.reshape(x_test.shape[0], quick_draw_cnn.image_size, quick_draw_cnn.image_size, 1).astype('float32')\n",
        "\n",
        "x_train /= 255.0\n",
        "x_test /= 255.0\n",
        "\n",
        "# Convert class vectors to class matrices\n",
        "y_train = keras.utils.to_categorical(y_train, num_classes)\n",
        "y_test = keras.utils.to_categorical(y_test, num_classes)\n"
      ],
      "execution_count": 0,
      "outputs": [
        {
          "output_type": "error",
          "ename": "NameError",
          "evalue": "ignored",
          "traceback": [
            "\u001b[0;31m---------------------------------------------------------------------------\u001b[0m",
            "\u001b[0;31mNameError\u001b[0m                                 Traceback (most recent call last)",
            "\u001b[0;32m<ipython-input-9-7459d20b3513>\u001b[0m in \u001b[0;36m<module>\u001b[0;34m()\u001b[0m\n\u001b[0;32m----> 1\u001b[0;31m \u001b[0mx_train\u001b[0m \u001b[0;34m=\u001b[0m \u001b[0mx_train\u001b[0m\u001b[0;34m.\u001b[0m\u001b[0mreshape\u001b[0m\u001b[0;34m(\u001b[0m\u001b[0mx_train\u001b[0m\u001b[0;34m.\u001b[0m\u001b[0mshape\u001b[0m\u001b[0;34m[\u001b[0m\u001b[0;36m0\u001b[0m\u001b[0;34m]\u001b[0m\u001b[0;34m,\u001b[0m \u001b[0mquick_draw_cnn\u001b[0m\u001b[0;34m.\u001b[0m\u001b[0mimage_size\u001b[0m\u001b[0;34m,\u001b[0m \u001b[0mquick_draw_cnn\u001b[0m\u001b[0;34m.\u001b[0m\u001b[0mimage_size\u001b[0m\u001b[0;34m,\u001b[0m \u001b[0;36m1\u001b[0m\u001b[0;34m)\u001b[0m\u001b[0;34m.\u001b[0m\u001b[0mastype\u001b[0m\u001b[0;34m(\u001b[0m\u001b[0;34m'float32'\u001b[0m\u001b[0;34m)\u001b[0m\u001b[0;34m\u001b[0m\u001b[0;34m\u001b[0m\u001b[0m\n\u001b[0m\u001b[1;32m      2\u001b[0m \u001b[0mx_test\u001b[0m \u001b[0;34m=\u001b[0m \u001b[0mx_test\u001b[0m\u001b[0;34m.\u001b[0m\u001b[0mreshape\u001b[0m\u001b[0;34m(\u001b[0m\u001b[0mx_test\u001b[0m\u001b[0;34m.\u001b[0m\u001b[0mshape\u001b[0m\u001b[0;34m[\u001b[0m\u001b[0;36m0\u001b[0m\u001b[0;34m]\u001b[0m\u001b[0;34m,\u001b[0m \u001b[0mquick_draw_cnn\u001b[0m\u001b[0;34m.\u001b[0m\u001b[0mimage_size\u001b[0m\u001b[0;34m,\u001b[0m \u001b[0mquick_draw_cnn\u001b[0m\u001b[0;34m.\u001b[0m\u001b[0mimage_size\u001b[0m\u001b[0;34m,\u001b[0m \u001b[0;36m1\u001b[0m\u001b[0;34m)\u001b[0m\u001b[0;34m.\u001b[0m\u001b[0mastype\u001b[0m\u001b[0;34m(\u001b[0m\u001b[0;34m'float32'\u001b[0m\u001b[0;34m)\u001b[0m\u001b[0;34m\u001b[0m\u001b[0;34m\u001b[0m\u001b[0m\n\u001b[1;32m      3\u001b[0m \u001b[0;34m\u001b[0m\u001b[0m\n\u001b[1;32m      4\u001b[0m \u001b[0mx_train\u001b[0m \u001b[0;34m/=\u001b[0m \u001b[0;36m255.0\u001b[0m\u001b[0;34m\u001b[0m\u001b[0;34m\u001b[0m\u001b[0m\n\u001b[1;32m      5\u001b[0m \u001b[0mx_test\u001b[0m \u001b[0;34m/=\u001b[0m \u001b[0;36m255.0\u001b[0m\u001b[0;34m\u001b[0m\u001b[0;34m\u001b[0m\u001b[0m\n",
            "\u001b[0;31mNameError\u001b[0m: name 'x_train' is not defined"
          ]
        }
      ]
    },
    {
      "cell_type": "code",
      "metadata": {
        "id": "-2mYt6NKAwah",
        "colab_type": "code",
        "colab": {}
      },
      "source": [
        "model = keras.Sequential()\n",
        "model.add(layers.Convolution2D(filters=32, kernel_size=[5,5], padding='same',input_shape=x_train.shape[1:], activation='relu'))\n",
        "model.add(layers.MaxPooling2D(pool_size=(2, 2), strides=2))\n",
        "\n",
        "model.add(layers.Convolution2D(filters=32, kernel_size=[5,5],padding='same', activation= 'relu'))\n",
        "model.add(layers.MaxPooling2D(pool_size=(2, 2), strides=2))\n",
        "\n",
        "model.add(layers.Convolution2D(filters=32, kernel_size=[5,5],padding='same', activation= 'relu'))\n",
        "model.add(layers.MaxPooling2D(pool_size=(2, 2), strides=2))\n",
        "\n",
        "model.add(layers.Convolution2D(filters=32, kernel_size=[5,5],padding='same', activation= 'relu'))\n",
        "model.add(layers.MaxPooling2D(pool_size=(2, 2), strides=2))\n",
        "\n",
        "model.add(layers.Flatten())\n",
        "model.add(layers.Dense(units=500, activation='relu'))\n",
        "model.add(layers.Dense(units=num_classes, activation='softmax')) \n",
        "# Train model\n",
        "adam = tf.train.AdamOptimizer()\n",
        "model.compile(loss='categorical_crossentropy',\n",
        "              optimizer=adam,\n",
        "              metrics=['top_k_categorical_accuracy'])\n",
        "print(model.summary())"
      ],
      "execution_count": 0,
      "outputs": []
    },
    {
      "cell_type": "code",
      "metadata": {
        "id": "Q-62qVo2BXrS",
        "colab_type": "code",
        "colab": {}
      },
      "source": [
        "model.fit(x = x_train, y = y_train, validation_data=(x_test, y_test), batch_size=quick_draw_cnn.batch_size, epochs=10)\n",
        "acc = model.evaluate(x_test, y_test,batch_size=quick_draw_cnn.batch_size)\n",
        "print('Test accuracy:', acc[1])"
      ],
      "execution_count": 0,
      "outputs": []
    },
    {
      "cell_type": "code",
      "metadata": {
        "id": "9TNOuHBQBcjj",
        "colab_type": "code",
        "outputId": "a99e3b66-8cdf-4723-a2b9-9e3dfb15feff",
        "colab": {
          "base_uri": "https://localhost:8080/",
          "height": 195
        }
      },
      "source": [
        "with open('class_names.txt', 'w') as file_handler:\n",
        "    for item in class_names:\n",
        "        file_handler.write(\"{}\\n\".format(item))"
      ],
      "execution_count": 0,
      "outputs": [
        {
          "output_type": "error",
          "ename": "NameError",
          "evalue": "ignored",
          "traceback": [
            "\u001b[0;31m---------------------------------------------------------------------------\u001b[0m",
            "\u001b[0;31mNameError\u001b[0m                                 Traceback (most recent call last)",
            "\u001b[0;32m<ipython-input-10-88a0804164fb>\u001b[0m in \u001b[0;36m<module>\u001b[0;34m()\u001b[0m\n\u001b[1;32m      1\u001b[0m \u001b[0;32mwith\u001b[0m \u001b[0mopen\u001b[0m\u001b[0;34m(\u001b[0m\u001b[0;34m'class_names.txt'\u001b[0m\u001b[0;34m,\u001b[0m \u001b[0;34m'w'\u001b[0m\u001b[0;34m)\u001b[0m \u001b[0;32mas\u001b[0m \u001b[0mfile_handler\u001b[0m\u001b[0;34m:\u001b[0m\u001b[0;34m\u001b[0m\u001b[0;34m\u001b[0m\u001b[0m\n\u001b[0;32m----> 2\u001b[0;31m     \u001b[0;32mfor\u001b[0m \u001b[0mitem\u001b[0m \u001b[0;32min\u001b[0m \u001b[0mclass_names\u001b[0m\u001b[0;34m:\u001b[0m\u001b[0;34m\u001b[0m\u001b[0;34m\u001b[0m\u001b[0m\n\u001b[0m\u001b[1;32m      3\u001b[0m         \u001b[0mfile_handler\u001b[0m\u001b[0;34m.\u001b[0m\u001b[0mwrite\u001b[0m\u001b[0;34m(\u001b[0m\u001b[0;34m\"{}\\n\"\u001b[0m\u001b[0;34m.\u001b[0m\u001b[0mformat\u001b[0m\u001b[0;34m(\u001b[0m\u001b[0mitem\u001b[0m\u001b[0;34m)\u001b[0m\u001b[0;34m)\u001b[0m\u001b[0;34m\u001b[0m\u001b[0;34m\u001b[0m\u001b[0m\n",
            "\u001b[0;31mNameError\u001b[0m: name 'class_names' is not defined"
          ]
        }
      ]
    },
    {
      "cell_type": "code",
      "metadata": {
        "id": "fqu0ZROtBc1f",
        "colab_type": "code",
        "colab": {}
      },
      "source": [
        "model.save('keras.h5')"
      ],
      "execution_count": 0,
      "outputs": []
    },
    {
      "cell_type": "code",
      "metadata": {
        "id": "q1BdX-YHBkeh",
        "colab_type": "code",
        "outputId": "e632ac5c-a67b-41d9-8c9f-875524090b7b",
        "colab": {
          "base_uri": "https://localhost:8080/",
          "height": 151
        }
      },
      "source": [
        "!pip install --upgrade pip"
      ],
      "execution_count": 0,
      "outputs": [
        {
          "output_type": "stream",
          "text": [
            "Collecting pip\n",
            "\u001b[?25l  Downloading https://files.pythonhosted.org/packages/54/0c/d01aa759fdc501a58f431eb594a17495f15b88da142ce14b5845662c13f3/pip-20.0.2-py2.py3-none-any.whl (1.4MB)\n",
            "\r\u001b[K     |▎                               | 10kB 27.8MB/s eta 0:00:01\r\u001b[K     |▌                               | 20kB 6.2MB/s eta 0:00:01\r\u001b[K     |▊                               | 30kB 7.9MB/s eta 0:00:01\r\u001b[K     |█                               | 40kB 5.9MB/s eta 0:00:01\r\u001b[K     |█▏                              | 51kB 6.2MB/s eta 0:00:01\r\u001b[K     |█▍                              | 61kB 7.4MB/s eta 0:00:01\r\u001b[K     |█▋                              | 71kB 8.3MB/s eta 0:00:01\r\u001b[K     |█▉                              | 81kB 8.3MB/s eta 0:00:01\r\u001b[K     |██                              | 92kB 9.2MB/s eta 0:00:01\r\u001b[K     |██▎                             | 102kB 8.6MB/s eta 0:00:01\r\u001b[K     |██▌                             | 112kB 8.6MB/s eta 0:00:01\r\u001b[K     |██▊                             | 122kB 8.6MB/s eta 0:00:01\r\u001b[K     |███                             | 133kB 8.6MB/s eta 0:00:01\r\u001b[K     |███▏                            | 143kB 8.6MB/s eta 0:00:01\r\u001b[K     |███▍                            | 153kB 8.6MB/s eta 0:00:01\r\u001b[K     |███▋                            | 163kB 8.6MB/s eta 0:00:01\r\u001b[K     |███▉                            | 174kB 8.6MB/s eta 0:00:01\r\u001b[K     |████                            | 184kB 8.6MB/s eta 0:00:01\r\u001b[K     |████▎                           | 194kB 8.6MB/s eta 0:00:01\r\u001b[K     |████▌                           | 204kB 8.6MB/s eta 0:00:01\r\u001b[K     |████▊                           | 215kB 8.6MB/s eta 0:00:01\r\u001b[K     |█████                           | 225kB 8.6MB/s eta 0:00:01\r\u001b[K     |█████▎                          | 235kB 8.6MB/s eta 0:00:01\r\u001b[K     |█████▌                          | 245kB 8.6MB/s eta 0:00:01\r\u001b[K     |█████▊                          | 256kB 8.6MB/s eta 0:00:01\r\u001b[K     |██████                          | 266kB 8.6MB/s eta 0:00:01\r\u001b[K     |██████▏                         | 276kB 8.6MB/s eta 0:00:01\r\u001b[K     |██████▍                         | 286kB 8.6MB/s eta 0:00:01\r\u001b[K     |██████▋                         | 296kB 8.6MB/s eta 0:00:01\r\u001b[K     |██████▉                         | 307kB 8.6MB/s eta 0:00:01\r\u001b[K     |███████                         | 317kB 8.6MB/s eta 0:00:01\r\u001b[K     |███████▎                        | 327kB 8.6MB/s eta 0:00:01\r\u001b[K     |███████▌                        | 337kB 8.6MB/s eta 0:00:01\r\u001b[K     |███████▊                        | 348kB 8.6MB/s eta 0:00:01\r\u001b[K     |████████                        | 358kB 8.6MB/s eta 0:00:01\r\u001b[K     |████████▏                       | 368kB 8.6MB/s eta 0:00:01\r\u001b[K     |████████▍                       | 378kB 8.6MB/s eta 0:00:01\r\u001b[K     |████████▋                       | 389kB 8.6MB/s eta 0:00:01\r\u001b[K     |████████▉                       | 399kB 8.6MB/s eta 0:00:01\r\u001b[K     |█████████                       | 409kB 8.6MB/s eta 0:00:01\r\u001b[K     |█████████▎                      | 419kB 8.6MB/s eta 0:00:01\r\u001b[K     |█████████▌                      | 430kB 8.6MB/s eta 0:00:01\r\u001b[K     |█████████▉                      | 440kB 8.6MB/s eta 0:00:01\r\u001b[K     |██████████                      | 450kB 8.6MB/s eta 0:00:01\r\u001b[K     |██████████▎                     | 460kB 8.6MB/s eta 0:00:01\r\u001b[K     |██████████▌                     | 471kB 8.6MB/s eta 0:00:01\r\u001b[K     |██████████▊                     | 481kB 8.6MB/s eta 0:00:01\r\u001b[K     |███████████                     | 491kB 8.6MB/s eta 0:00:01\r\u001b[K     |███████████▏                    | 501kB 8.6MB/s eta 0:00:01\r\u001b[K     |███████████▍                    | 512kB 8.6MB/s eta 0:00:01\r\u001b[K     |███████████▋                    | 522kB 8.6MB/s eta 0:00:01\r\u001b[K     |███████████▉                    | 532kB 8.6MB/s eta 0:00:01\r\u001b[K     |████████████                    | 542kB 8.6MB/s eta 0:00:01\r\u001b[K     |████████████▎                   | 552kB 8.6MB/s eta 0:00:01\r\u001b[K     |████████████▌                   | 563kB 8.6MB/s eta 0:00:01\r\u001b[K     |████████████▊                   | 573kB 8.6MB/s eta 0:00:01\r\u001b[K     |█████████████                   | 583kB 8.6MB/s eta 0:00:01\r\u001b[K     |█████████████▏                  | 593kB 8.6MB/s eta 0:00:01\r\u001b[K     |█████████████▍                  | 604kB 8.6MB/s eta 0:00:01\r\u001b[K     |█████████████▋                  | 614kB 8.6MB/s eta 0:00:01\r\u001b[K     |█████████████▉                  | 624kB 8.6MB/s eta 0:00:01\r\u001b[K     |██████████████                  | 634kB 8.6MB/s eta 0:00:01\r\u001b[K     |██████████████▎                 | 645kB 8.6MB/s eta 0:00:01\r\u001b[K     |██████████████▌                 | 655kB 8.6MB/s eta 0:00:01\r\u001b[K     |██████████████▉                 | 665kB 8.6MB/s eta 0:00:01\r\u001b[K     |███████████████                 | 675kB 8.6MB/s eta 0:00:01\r\u001b[K     |███████████████▎                | 686kB 8.6MB/s eta 0:00:01\r\u001b[K     |███████████████▌                | 696kB 8.6MB/s eta 0:00:01\r\u001b[K     |███████████████▊                | 706kB 8.6MB/s eta 0:00:01\r\u001b[K     |████████████████                | 716kB 8.6MB/s eta 0:00:01\r\u001b[K     |████████████████▏               | 727kB 8.6MB/s eta 0:00:01\r\u001b[K     |████████████████▍               | 737kB 8.6MB/s eta 0:00:01\r\u001b[K     |████████████████▋               | 747kB 8.6MB/s eta 0:00:01\r\u001b[K     |████████████████▉               | 757kB 8.6MB/s eta 0:00:01\r\u001b[K     |█████████████████               | 768kB 8.6MB/s eta 0:00:01\r\u001b[K     |█████████████████▎              | 778kB 8.6MB/s eta 0:00:01\r\u001b[K     |█████████████████▌              | 788kB 8.6MB/s eta 0:00:01\r\u001b[K     |█████████████████▊              | 798kB 8.6MB/s eta 0:00:01\r\u001b[K     |██████████████████              | 808kB 8.6MB/s eta 0:00:01\r\u001b[K     |██████████████████▏             | 819kB 8.6MB/s eta 0:00:01\r\u001b[K     |██████████████████▍             | 829kB 8.6MB/s eta 0:00:01\r\u001b[K     |██████████████████▋             | 839kB 8.6MB/s eta 0:00:01\r\u001b[K     |██████████████████▉             | 849kB 8.6MB/s eta 0:00:01\r\u001b[K     |███████████████████             | 860kB 8.6MB/s eta 0:00:01\r\u001b[K     |███████████████████▎            | 870kB 8.6MB/s eta 0:00:01\r\u001b[K     |███████████████████▋            | 880kB 8.6MB/s eta 0:00:01\r\u001b[K     |███████████████████▉            | 890kB 8.6MB/s eta 0:00:01\r\u001b[K     |████████████████████            | 901kB 8.6MB/s eta 0:00:01\r\u001b[K     |████████████████████▎           | 911kB 8.6MB/s eta 0:00:01\r\u001b[K     |████████████████████▌           | 921kB 8.6MB/s eta 0:00:01\r\u001b[K     |████████████████████▊           | 931kB 8.6MB/s eta 0:00:01\r\u001b[K     |█████████████████████           | 942kB 8.6MB/s eta 0:00:01\r\u001b[K     |█████████████████████▏          | 952kB 8.6MB/s eta 0:00:01\r\u001b[K     |█████████████████████▍          | 962kB 8.6MB/s eta 0:00:01\r\u001b[K     |█████████████████████▋          | 972kB 8.6MB/s eta 0:00:01\r\u001b[K     |█████████████████████▉          | 983kB 8.6MB/s eta 0:00:01\r\u001b[K     |██████████████████████          | 993kB 8.6MB/s eta 0:00:01\r\u001b[K     |██████████████████████▎         | 1.0MB 8.6MB/s eta 0:00:01\r\u001b[K     |██████████████████████▌         | 1.0MB 8.6MB/s eta 0:00:01\r\u001b[K     |██████████████████████▊         | 1.0MB 8.6MB/s eta 0:00:01\r\u001b[K     |███████████████████████         | 1.0MB 8.6MB/s eta 0:00:01\r\u001b[K     |███████████████████████▏        | 1.0MB 8.6MB/s eta 0:00:01\r\u001b[K     |███████████████████████▍        | 1.1MB 8.6MB/s eta 0:00:01\r\u001b[K     |███████████████████████▋        | 1.1MB 8.6MB/s eta 0:00:01\r\u001b[K     |███████████████████████▉        | 1.1MB 8.6MB/s eta 0:00:01\r\u001b[K     |████████████████████████        | 1.1MB 8.6MB/s eta 0:00:01\r\u001b[K     |████████████████████████▎       | 1.1MB 8.6MB/s eta 0:00:01\r\u001b[K     |████████████████████████▋       | 1.1MB 8.6MB/s eta 0:00:01\r\u001b[K     |████████████████████████▉       | 1.1MB 8.6MB/s eta 0:00:01\r\u001b[K     |█████████████████████████       | 1.1MB 8.6MB/s eta 0:00:01\r\u001b[K     |█████████████████████████▎      | 1.1MB 8.6MB/s eta 0:00:01\r\u001b[K     |█████████████████████████▌      | 1.1MB 8.6MB/s eta 0:00:01\r\u001b[K     |█████████████████████████▊      | 1.2MB 8.6MB/s eta 0:00:01\r\u001b[K     |██████████████████████████      | 1.2MB 8.6MB/s eta 0:00:01\r\u001b[K     |██████████████████████████▏     | 1.2MB 8.6MB/s eta 0:00:01\r\u001b[K     |██████████████████████████▍     | 1.2MB 8.6MB/s eta 0:00:01\r\u001b[K     |██████████████████████████▋     | 1.2MB 8.6MB/s eta 0:00:01\r\u001b[K     |██████████████████████████▉     | 1.2MB 8.6MB/s eta 0:00:01\r\u001b[K     |███████████████████████████     | 1.2MB 8.6MB/s eta 0:00:01\r\u001b[K     |███████████████████████████▎    | 1.2MB 8.6MB/s eta 0:00:01\r\u001b[K     |███████████████████████████▌    | 1.2MB 8.6MB/s eta 0:00:01\r\u001b[K     |███████████████████████████▊    | 1.2MB 8.6MB/s eta 0:00:01\r\u001b[K     |████████████████████████████    | 1.3MB 8.6MB/s eta 0:00:01\r\u001b[K     |████████████████████████████▏   | 1.3MB 8.6MB/s eta 0:00:01\r\u001b[K     |████████████████████████████▍   | 1.3MB 8.6MB/s eta 0:00:01\r\u001b[K     |████████████████████████████▋   | 1.3MB 8.6MB/s eta 0:00:01\r\u001b[K     |████████████████████████████▉   | 1.3MB 8.6MB/s eta 0:00:01\r\u001b[K     |█████████████████████████████   | 1.3MB 8.6MB/s eta 0:00:01\r\u001b[K     |█████████████████████████████▍  | 1.3MB 8.6MB/s eta 0:00:01\r\u001b[K     |█████████████████████████████▋  | 1.3MB 8.6MB/s eta 0:00:01\r\u001b[K     |█████████████████████████████▉  | 1.3MB 8.6MB/s eta 0:00:01\r\u001b[K     |██████████████████████████████  | 1.4MB 8.6MB/s eta 0:00:01\r\u001b[K     |██████████████████████████████▎ | 1.4MB 8.6MB/s eta 0:00:01\r\u001b[K     |██████████████████████████████▌ | 1.4MB 8.6MB/s eta 0:00:01\r\u001b[K     |██████████████████████████████▊ | 1.4MB 8.6MB/s eta 0:00:01\r\u001b[K     |███████████████████████████████ | 1.4MB 8.6MB/s eta 0:00:01\r\u001b[K     |███████████████████████████████▏| 1.4MB 8.6MB/s eta 0:00:01\r\u001b[K     |███████████████████████████████▍| 1.4MB 8.6MB/s eta 0:00:01\r\u001b[K     |███████████████████████████████▋| 1.4MB 8.6MB/s eta 0:00:01\r\u001b[K     |███████████████████████████████▉| 1.4MB 8.6MB/s eta 0:00:01\r\u001b[K     |████████████████████████████████| 1.4MB 8.6MB/s \n",
            "\u001b[?25hInstalling collected packages: pip\n",
            "  Found existing installation: pip 19.3.1\n",
            "    Uninstalling pip-19.3.1:\n",
            "      Successfully uninstalled pip-19.3.1\n",
            "Successfully installed pip-20.0.2\n"
          ],
          "name": "stdout"
        }
      ]
    },
    {
      "cell_type": "code",
      "metadata": {
        "id": "a-oMvylaBk1m",
        "colab_type": "code",
        "outputId": "b050e7bd-18fc-43a4-dd8d-dc95b9f11ebd",
        "colab": {
          "base_uri": "https://localhost:8080/",
          "height": 34
        }
      },
      "source": [
        "!tensorflowjs_converter --input_format keras keras.h5 model/"
      ],
      "execution_count": 0,
      "outputs": [
        {
          "output_type": "stream",
          "text": [
            "/bin/bash: tensorflowjs_converter: command not found\n"
          ],
          "name": "stdout"
        }
      ]
    },
    {
      "cell_type": "code",
      "metadata": {
        "id": "VmDiFLcXBn3Y",
        "colab_type": "code",
        "colab": {}
      },
      "source": [
        "!pip install -q keras\n"
      ],
      "execution_count": 0,
      "outputs": []
    },
    {
      "cell_type": "code",
      "metadata": {
        "id": "JtaVEK7un5Pt",
        "colab_type": "code",
        "colab": {
          "base_uri": "https://localhost:8080/",
          "height": 79
        },
        "outputId": "87f8b682-3cdd-44cc-d49a-c46624415080"
      },
      "source": [
        "import keras\n"
      ],
      "execution_count": 9,
      "outputs": [
        {
          "output_type": "stream",
          "text": [
            "Using TensorFlow backend.\n"
          ],
          "name": "stderr"
        },
        {
          "output_type": "display_data",
          "data": {
            "text/html": [
              "<p style=\"color: red;\">\n",
              "The default version of TensorFlow in Colab will soon switch to TensorFlow 2.x.<br>\n",
              "We recommend you <a href=\"https://www.tensorflow.org/guide/migrate\" target=\"_blank\">upgrade</a> now \n",
              "or ensure your notebook will continue to use TensorFlow 1.x via the <code>%tensorflow_version 1.x</code> magic:\n",
              "<a href=\"https://colab.research.google.com/notebooks/tensorflow_version.ipynb\" target=\"_blank\">more info</a>.</p>\n"
            ],
            "text/plain": [
              "<IPython.core.display.HTML object>"
            ]
          },
          "metadata": {
            "tags": []
          }
        }
      ]
    },
    {
      "cell_type": "code",
      "metadata": {
        "id": "dpKwrtbaoBl1",
        "colab_type": "code",
        "colab": {}
      },
      "source": [
        ""
      ],
      "execution_count": 0,
      "outputs": []
    }
  ]
}