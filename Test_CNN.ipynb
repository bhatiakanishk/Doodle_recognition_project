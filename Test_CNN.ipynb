{
  "nbformat": 4,
  "nbformat_minor": 0,
  "metadata": {
    "colab": {
      "name": "Untitled1.ipynb",
      "provenance": [],
      "collapsed_sections": [],
      "authorship_tag": "ABX9TyM1xBx/3X8/5b0h6COeOr97",
      "include_colab_link": true
    },
    "kernelspec": {
      "name": "python3",
      "display_name": "Python 3"
    },
    "accelerator": "GPU"
  },
  "cells": [
    {
      "cell_type": "markdown",
      "metadata": {
        "id": "view-in-github",
        "colab_type": "text"
      },
      "source": [
        "<a href=\"https://colab.research.google.com/github/harshitgupta1998/Doodle_recogn_BEproject/blob/master/Test_CNN.ipynb\" target=\"_parent\"><img src=\"https://colab.research.google.com/assets/colab-badge.svg\" alt=\"Open In Colab\"/></a>"
      ]
    },
    {
      "cell_type": "code",
      "metadata": {
        "id": "_-eGkTfg91S7",
        "colab_type": "code",
        "colab": {}
      },
      "source": [
        "import cv2\n",
        "import argparse\n",
        "import json\n",
        "import os\n",
        "import random\n",
        "import sys\n",
        "import numpy as np\n",
        "import tensorflow as tf\n",
        "import numpy as np\n"
      ],
      "execution_count": 0,
      "outputs": []
    },
    {
      "cell_type": "code",
      "metadata": {
        "id": "W6wuyM0t-BMQ",
        "colab_type": "code",
        "colab": {}
      },
      "source": [
        "image_size=28\n",
        "def SVHN_net_v0(x_,num_of_classes):\n",
        "    with tf.variable_scope(\"CNN\"):\n",
        "      conv1 = tf.layers.conv2d(\n",
        "                                 inputs=x_,\n",
        "                                 filters=32,  # number of filters\n",
        "                                 kernel_size=[5, 5],\n",
        "                                 padding=\"same\",\n",
        "                                 activation=tf.nn.relu)\n",
        "      pool1 = tf.layers.max_pooling2d(inputs=conv1,pool_size=[2, 2], strides=2)  # convolution stride\n",
        "\n",
        "      conv2 = tf.layers.conv2d(\n",
        "                                  inputs=pool1,\n",
        "                                  filters=32, # number of filters\n",
        "                                  kernel_size=[5, 5],\n",
        "                                  padding=\"same\",\n",
        "                                  activation=tf.nn.relu)\n",
        "                                 \n",
        "      pool2 = tf.layers.max_pooling2d(inputs=conv2,\n",
        "                                        pool_size=[2, 2],\n",
        "                                        strides=2)  # convolution stride\n",
        "                                 \n",
        "      conv3 = tf.layers.conv2d(\n",
        "                                inputs=pool2,\n",
        "                                filters=32, # number of filters\n",
        "                                kernel_size=[5, 5],\n",
        "                                 padding=\"same\",\n",
        "                                 activation=tf.nn.relu)\n",
        "                                     \n",
        "      pool3 = tf.layers.max_pooling2d(inputs=conv3,\n",
        "                                        pool_size=[2, 2],\n",
        "                                        strides=2)  # convolution stride\n",
        "      conv4 = tf.layers.conv2d(\n",
        "                                    inputs=pool3,\n",
        "                                    filters=32, # number of filters\n",
        "                                    kernel_size=[5, 5],\n",
        "                                    padding=\"same\",\n",
        "                                    activation=tf.nn.relu)\n",
        "      pool4 = tf.layers.max_pooling2d(inputs=conv4,\n",
        "                                pool_size=[2, 2],\n",
        "                                strides=2)  # convolution stride\n",
        "      pool_flat = tf.contrib.layers.flatten(pool4, scope='pool2flat')\n",
        "      dense = tf.layers.dense(inputs=pool_flat, units=500, activation=tf.nn.relu)\n",
        "      logits = tf.layers.dense(inputs=dense, units=num_of_classes)\n",
        "      return tf.nn.softmax(logits)\n",
        "\n"
      ],
      "execution_count": 0,
      "outputs": []
    },
    {
      "cell_type": "code",
      "metadata": {
        "id": "n4FWd6AX_rEt",
        "colab_type": "code",
        "colab": {
          "base_uri": "https://localhost:8080/",
          "height": 121
        },
        "outputId": "1e60ee2c-8b50-477e-f61b-4ca95b118a87"
      },
      "source": [
        "from google.colab import drive\n",
        "drive.mount('/content/drive/')"
      ],
      "execution_count": 12,
      "outputs": [
        {
          "output_type": "stream",
          "text": [
            "Go to this URL in a browser: https://accounts.google.com/o/oauth2/auth?client_id=947318989803-6bn6qk8qdgf4n4g3pfee6491hc0brc4i.apps.googleusercontent.com&redirect_uri=urn%3aietf%3awg%3aoauth%3a2.0%3aoob&response_type=code&scope=email%20https%3a%2f%2fwww.googleapis.com%2fauth%2fdocs.test%20https%3a%2f%2fwww.googleapis.com%2fauth%2fdrive%20https%3a%2f%2fwww.googleapis.com%2fauth%2fdrive.photos.readonly%20https%3a%2f%2fwww.googleapis.com%2fauth%2fpeopleapi.readonly\n",
            "\n",
            "Enter your authorization code:\n",
            "··········\n",
            "Mounted at /content/drive/\n"
          ],
          "name": "stdout"
        }
      ]
    },
    {
      "cell_type": "code",
      "metadata": {
        "id": "ITPRDaI8_FS-",
        "colab_type": "code",
        "colab": {}
      },
      "source": [
        "def create_dic():\n",
        "    dir_data='/content/drive/My Drive/BE_project_dataset_and_code/data/'\n",
        "    dict={}\n",
        "    i=0\n",
        "    for file in sorted(os.listdir(dir_data)):\n",
        "        if file.endswith(\".npy\"):\n",
        "            str=file.split(\".\")\n",
        "            dict[str[0]]=i\n",
        "            i=i+1\n",
        "\n",
        "    return i,dict"
      ],
      "execution_count": 0,
      "outputs": []
    },
    {
      "cell_type": "code",
      "metadata": {
        "id": "SxGPE4F6_1-A",
        "colab_type": "code",
        "colab": {}
      },
      "source": [
        "def test_cnn(cnn,test_img,y_test):\n",
        "    x_ = tf.placeholder(tf.float32, [None, cnn.image_size, cnn.image_size,1],name='x')\n",
        "    y_=SVHN_net_v0(x_,cnn.num_of_classes)\n",
        "    y_pred=np.zeros(test_img.shape[0])\n",
        "    error_hist=np.zeros(cnn.num_of_classes)\n",
        "    saver = tf.train.Saver()\n",
        "    with tf.Session() as sess:\n",
        "        saver.restore(sess, \"./saved_sess/model.ckpt\")\n",
        "        res=sess.run(y_, feed_dict={x_:test_img})\n",
        "        for i,prob in enumerate(res):\n",
        "            print(\"test number \",i)\n",
        "            for j in range(cnn.num_of_classes):\n",
        "              print(\"probability to be\",cnn.dict[j], \":%.16f\" % prob[j])\n",
        "              print(\"predictes result for test number\",i,\"is:\",cnn.dict[np.argmax(res[i])],\"correct result is \",cnn.dict[y_test[i]])\n",
        "              if(np.argmax(res[i])!=y_test[i]):\n",
        "                print(\"!!!!\",y_test[i],cnn.dict[y_test[i]])\n",
        "                error_hist[int(y_test[i])]=error_hist[int(y_test[i])]+1\n",
        "               \n",
        "            y_pred[i]=(np.argmax(res[i]))\n",
        "        return(y_pred)\n",
        "        \n"
      ],
      "execution_count": 0,
      "outputs": []
    },
    {
      "cell_type": "code",
      "metadata": {
        "id": "1nqoQtltAJYh",
        "colab_type": "code",
        "colab": {
          "base_uri": "https://localhost:8080/",
          "height": 212
        },
        "outputId": "34c0986e-3d6e-4827-af32-6db7095467ca"
      },
      "source": [
        "axe_data=np.load('/content/drive/My Drive/BE_project_dataset_and_code/data/axe.npy')\n",
        "test_im=axe_data[1:100]\n",
        "test_im=np.reshape(test_im,[test_im.shape[0],image_size,image_size,1])\n",
        "print(test_im.shape)\n",
        "#train_cnn(test_im)"
      ],
      "execution_count": 19,
      "outputs": [
        {
          "output_type": "stream",
          "text": [
            "(99, 28, 28, 1)\n"
          ],
          "name": "stdout"
        },
        {
          "output_type": "error",
          "ename": "TypeError",
          "evalue": "ignored",
          "traceback": [
            "\u001b[0;31m---------------------------------------------------------------------------\u001b[0m",
            "\u001b[0;31mTypeError\u001b[0m                                 Traceback (most recent call last)",
            "\u001b[0;32m<ipython-input-19-bb5baa7e2db6>\u001b[0m in \u001b[0;36m<module>\u001b[0;34m()\u001b[0m\n\u001b[1;32m      3\u001b[0m \u001b[0mtest_im\u001b[0m\u001b[0;34m=\u001b[0m\u001b[0mnp\u001b[0m\u001b[0;34m.\u001b[0m\u001b[0mreshape\u001b[0m\u001b[0;34m(\u001b[0m\u001b[0mtest_im\u001b[0m\u001b[0;34m,\u001b[0m\u001b[0;34m[\u001b[0m\u001b[0mtest_im\u001b[0m\u001b[0;34m.\u001b[0m\u001b[0mshape\u001b[0m\u001b[0;34m[\u001b[0m\u001b[0;36m0\u001b[0m\u001b[0;34m]\u001b[0m\u001b[0;34m,\u001b[0m\u001b[0mimage_size\u001b[0m\u001b[0;34m,\u001b[0m\u001b[0mimage_size\u001b[0m\u001b[0;34m,\u001b[0m\u001b[0;36m1\u001b[0m\u001b[0;34m]\u001b[0m\u001b[0;34m)\u001b[0m\u001b[0;34m\u001b[0m\u001b[0;34m\u001b[0m\u001b[0m\n\u001b[1;32m      4\u001b[0m \u001b[0mprint\u001b[0m\u001b[0;34m(\u001b[0m\u001b[0mtest_im\u001b[0m\u001b[0;34m.\u001b[0m\u001b[0mshape\u001b[0m\u001b[0;34m)\u001b[0m\u001b[0;34m\u001b[0m\u001b[0;34m\u001b[0m\u001b[0m\n\u001b[0;32m----> 5\u001b[0;31m \u001b[0mtest_cnn\u001b[0m\u001b[0;34m(\u001b[0m\u001b[0mtest_im\u001b[0m\u001b[0;34m)\u001b[0m\u001b[0;34m\u001b[0m\u001b[0;34m\u001b[0m\u001b[0m\n\u001b[0m",
            "\u001b[0;31mTypeError\u001b[0m: test_cnn() missing 2 required positional arguments: 'test_img' and 'y_test'"
          ]
        }
      ]
    },
    {
      "cell_type": "code",
      "metadata": {
        "id": "87opcYb2A-U2",
        "colab_type": "code",
        "colab": {}
      },
      "source": [
        ""
      ],
      "execution_count": 0,
      "outputs": []
    }
  ]
}