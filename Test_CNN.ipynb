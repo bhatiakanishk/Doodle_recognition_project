{
  "nbformat": 4,
  "nbformat_minor": 0,
  "metadata": {
    "colab": {
      "name": "Untitled1.ipynb",
      "provenance": [],
      "collapsed_sections": [],
      "authorship_tag": "ABX9TyONiAVJTQn6VEdIwJT7QCar",
      "include_colab_link": true
    },
    "kernelspec": {
      "name": "python3",
      "display_name": "Python 3"
    },
    "accelerator": "GPU"
  },
  "cells": [
    {
      "cell_type": "markdown",
      "metadata": {
        "id": "view-in-github",
        "colab_type": "text"
      },
      "source": [
        "<a href=\"https://colab.research.google.com/github/harshitgupta1998/Doodle_recogn_BEproject/blob/master/Test_CNN.ipynb\" target=\"_parent\"><img src=\"https://colab.research.google.com/assets/colab-badge.svg\" alt=\"Open In Colab\"/></a>"
      ]
    },
    {
      "cell_type": "code",
      "metadata": {
        "id": "_-eGkTfg91S7",
        "colab_type": "code",
        "outputId": "c3c37586-0adc-4595-e161-4ffad29bf439",
        "colab": {
          "base_uri": "https://localhost:8080/",
          "height": 62
        }
      },
      "source": [
        "import cv2\n",
        "import argparse\n",
        "import json\n",
        "import os\n",
        "import random\n",
        "import sys\n",
        "import numpy as np\n",
        "import tensorflow as tf\n",
        "import numpy as np\n"
      ],
      "execution_count": 0,
      "outputs": [
        {
          "output_type": "display_data",
          "data": {
            "text/html": [
              "<p style=\"color: red;\">\n",
              "The default version of TensorFlow in Colab will soon switch to TensorFlow 2.x.<br>\n",
              "We recommend you <a href=\"https://www.tensorflow.org/guide/migrate\" target=\"_blank\">upgrade</a> now \n",
              "or ensure your notebook will continue to use TensorFlow 1.x via the <code>%tensorflow_version 1.x</code> magic:\n",
              "<a href=\"https://colab.research.google.com/notebooks/tensorflow_version.ipynb\" target=\"_blank\">more info</a>.</p>\n"
            ],
            "text/plain": [
              "<IPython.core.display.HTML object>"
            ]
          },
          "metadata": {
            "tags": []
          }
        }
      ]
    },
    {
      "cell_type": "code",
      "metadata": {
        "id": "W6wuyM0t-BMQ",
        "colab_type": "code",
        "colab": {}
      },
      "source": [
        "image_size=28\n",
        "def SVHN_net_v0(x_,num_of_classes):\n",
        "    with tf.variable_scope(\"CNN\"):\n",
        "      conv1 = tf.layers.conv2d(\n",
        "                                 inputs=x_,\n",
        "                                 filters=32,  # number of filters\n",
        "                                 kernel_size=[5, 5],\n",
        "                                 padding=\"same\",\n",
        "                                 activation=tf.nn.relu)\n",
        "      pool1 = tf.layers.max_pooling2d(inputs=conv1,pool_size=[2, 2], strides=2)  # convolution stride\n",
        "\n",
        "      conv2 = tf.layers.conv2d(\n",
        "                                  inputs=pool1,\n",
        "                                  filters=32, # number of filters\n",
        "                                  kernel_size=[5, 5],\n",
        "                                  padding=\"same\",\n",
        "                                  activation=tf.nn.relu)\n",
        "                                 \n",
        "      pool2 = tf.layers.max_pooling2d(inputs=conv2,\n",
        "                                        pool_size=[2, 2],\n",
        "                                        strides=2)  # convolution stride\n",
        "                                 \n",
        "      conv3 = tf.layers.conv2d(\n",
        "                                inputs=pool2,\n",
        "                                filters=32, # number of filters\n",
        "                                kernel_size=[5, 5],\n",
        "                                 padding=\"same\",\n",
        "                                 activation=tf.nn.relu)\n",
        "                                     \n",
        "      pool3 = tf.layers.max_pooling2d(inputs=conv3,\n",
        "                                        pool_size=[2, 2],\n",
        "                                        strides=2)  # convolution stride\n",
        "      conv4 = tf.layers.conv2d(\n",
        "                                    inputs=pool3,\n",
        "                                    filters=32, # number of filters\n",
        "                                    kernel_size=[5, 5],\n",
        "                                    padding=\"same\",\n",
        "                                    activation=tf.nn.relu)\n",
        "      pool4 = tf.layers.max_pooling2d(inputs=conv4,\n",
        "                                pool_size=[2, 2],\n",
        "                                strides=2)  # convolution stride\n",
        "      pool_flat = tf.contrib.layers.flatten(pool4, scope='pool2flat')\n",
        "      dense = tf.layers.dense(inputs=pool_flat, units=500, activation=tf.nn.relu)\n",
        "      logits = tf.layers.dense(inputs=dense, units=num_of_classes)\n",
        "      return tf.nn.softmax(logits)\n"
      ],
      "execution_count": 0,
      "outputs": []
    },
    {
      "cell_type": "code",
      "metadata": {
        "id": "n4FWd6AX_rEt",
        "colab_type": "code",
        "colab": {}
      },
      "source": [
        "from google.colab import drive\n",
        "drive.mount('/content/drive/')"
      ],
      "execution_count": 0,
      "outputs": []
    },
    {
      "cell_type": "code",
      "metadata": {
        "id": "ITPRDaI8_FS-",
        "colab_type": "code",
        "colab": {}
      },
      "source": [
        "def create_dic():\n",
        "    dir_data='/content/drive/My Drive/BE_project_dataset_and_code/data/'\n",
        "    dict={}\n",
        "    i=0\n",
        "    for file in sorted(os.listdir(dir_data)):\n",
        "        if file.endswith(\".npy\"):\n",
        "            str=file.split(\".\")\n",
        "            dict[str[0]]=i\n",
        "            i=i+1\n",
        "\n",
        "    return i,dict"
      ],
      "execution_count": 0,
      "outputs": []
    },
    {
      "cell_type": "code",
      "metadata": {
        "id": "SxGPE4F6_1-A",
        "colab_type": "code",
        "colab": {}
      },
      "source": [
        "def test_cnn(cnn,test_img,y_test):\n",
        "    x_ = tf.placeholder(tf.float32, [None, cnn.image_size, cnn.image_size,1],name='x')\n",
        "    y_=SVHN_net_v0(x_,cnn.num_of_classes)\n",
        "    y_pred=np.zeros(test_img.shape[0])\n",
        "    error_hist=np.zeros(cnn.num_of_classes)\n",
        "    saver = tf.train.Saver()\n",
        "    with tf.Session() as sess:\n",
        "        saver.restore(sess, \"./saved_sess/model.ckpt\")\n",
        "        res=sess.run(y_, feed_dict={x_:test_img})\n",
        "        for i,prob in enumerate(res):\n",
        "            print(\"test number \",i)\n",
        "            for j in range(cnn.num_of_classes):\n",
        "              print(\"probability to be\",cnn.dict[j], \":%.16f\" % prob[j])\n",
        "              print(\"predictes result for test number\",i,\"is:\",cnn.dict[np.argmax(res[i])],\"correct result is \",cnn.dict[y_test[i]])\n",
        "              if(np.argmax(res[i])!=y_test[i]):\n",
        "                print(\"!!!!\",y_test[i],cnn.dict[y_test[i]])\n",
        "                error_hist[int(y_test[i])]=error_hist[int(y_test[i])]+1\n",
        "               \n",
        "            y_pred[i]=(np.argmax(res[i]))\n",
        "        return(y_pred)\n",
        "        \n",
        "#axe_data=np.load('axe.npy')\n",
        "#test_im=axe_data[1:100]\n",
        "#test_im=np.reshape(test_im,[test_im.shape[0],image_size,image_size,1])\n",
        "#print(test_im.shape)\n",
        "#train_cnn(test_im)"
      ],
      "execution_count": 0,
      "outputs": []
    },
    {
      "cell_type": "code",
      "metadata": {
        "id": "1nqoQtltAJYh",
        "colab_type": "code",
        "colab": {}
      },
      "source": [
        ""
      ],
      "execution_count": 0,
      "outputs": []
    }
  ]
}